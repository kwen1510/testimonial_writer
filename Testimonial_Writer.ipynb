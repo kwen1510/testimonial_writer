{
  "nbformat": 4,
  "nbformat_minor": 0,
  "metadata": {
    "colab": {
      "provenance": [],
      "collapsed_sections": [],
      "include_colab_link": true
    },
    "kernelspec": {
      "name": "python3",
      "display_name": "Python 3"
    },
    "language_info": {
      "name": "python"
    },
    "widgets": {
      "application/vnd.jupyter.widget-state+json": {
        "703653b19fc54bc1946201d8b2685973": {
          "model_module": "@jupyter-widgets/controls",
          "model_name": "HBoxModel",
          "model_module_version": "1.5.0",
          "state": {
            "_dom_classes": [],
            "_model_module": "@jupyter-widgets/controls",
            "_model_module_version": "1.5.0",
            "_model_name": "HBoxModel",
            "_view_count": null,
            "_view_module": "@jupyter-widgets/controls",
            "_view_module_version": "1.5.0",
            "_view_name": "HBoxView",
            "box_style": "",
            "children": [
              "IPY_MODEL_d537f1479a604ecbb64b3137a3bfb215",
              "IPY_MODEL_0f3a5117008742d4afd424c6b8c964a4",
              "IPY_MODEL_9f83becd55a44a1dba53e7797ed95c0e"
            ],
            "layout": "IPY_MODEL_4b7fba8e9f1c4c149a8a060b11914718"
          }
        },
        "d537f1479a604ecbb64b3137a3bfb215": {
          "model_module": "@jupyter-widgets/controls",
          "model_name": "HTMLModel",
          "model_module_version": "1.5.0",
          "state": {
            "_dom_classes": [],
            "_model_module": "@jupyter-widgets/controls",
            "_model_module_version": "1.5.0",
            "_model_name": "HTMLModel",
            "_view_count": null,
            "_view_module": "@jupyter-widgets/controls",
            "_view_module_version": "1.5.0",
            "_view_name": "HTMLView",
            "description": "",
            "description_tooltip": null,
            "layout": "IPY_MODEL_aa62657498314043ab3a9a9eb34f7ec1",
            "placeholder": "​",
            "style": "IPY_MODEL_22caf37ffee74982a746aaf1158a3401",
            "value": "Downloading: 100%"
          }
        },
        "0f3a5117008742d4afd424c6b8c964a4": {
          "model_module": "@jupyter-widgets/controls",
          "model_name": "FloatProgressModel",
          "model_module_version": "1.5.0",
          "state": {
            "_dom_classes": [],
            "_model_module": "@jupyter-widgets/controls",
            "_model_module_version": "1.5.0",
            "_model_name": "FloatProgressModel",
            "_view_count": null,
            "_view_module": "@jupyter-widgets/controls",
            "_view_module_version": "1.5.0",
            "_view_name": "ProgressView",
            "bar_style": "success",
            "description": "",
            "description_tooltip": null,
            "layout": "IPY_MODEL_d45f24b3c6cd4d039121835fd09f4f5f",
            "max": 1007,
            "min": 0,
            "orientation": "horizontal",
            "style": "IPY_MODEL_6d50737773d843e791a7e2d69641644f",
            "value": 1007
          }
        },
        "9f83becd55a44a1dba53e7797ed95c0e": {
          "model_module": "@jupyter-widgets/controls",
          "model_name": "HTMLModel",
          "model_module_version": "1.5.0",
          "state": {
            "_dom_classes": [],
            "_model_module": "@jupyter-widgets/controls",
            "_model_module_version": "1.5.0",
            "_model_name": "HTMLModel",
            "_view_count": null,
            "_view_module": "@jupyter-widgets/controls",
            "_view_module_version": "1.5.0",
            "_view_name": "HTMLView",
            "description": "",
            "description_tooltip": null,
            "layout": "IPY_MODEL_33f617154deb434c8157626526889007",
            "placeholder": "​",
            "style": "IPY_MODEL_e5a7dc1aedba4c4ba1f3a4991601a3d9",
            "value": " 1.01k/1.01k [00:00&lt;00:00, 29.7kB/s]"
          }
        },
        "4b7fba8e9f1c4c149a8a060b11914718": {
          "model_module": "@jupyter-widgets/base",
          "model_name": "LayoutModel",
          "model_module_version": "1.2.0",
          "state": {
            "_model_module": "@jupyter-widgets/base",
            "_model_module_version": "1.2.0",
            "_model_name": "LayoutModel",
            "_view_count": null,
            "_view_module": "@jupyter-widgets/base",
            "_view_module_version": "1.2.0",
            "_view_name": "LayoutView",
            "align_content": null,
            "align_items": null,
            "align_self": null,
            "border": null,
            "bottom": null,
            "display": null,
            "flex": null,
            "flex_flow": null,
            "grid_area": null,
            "grid_auto_columns": null,
            "grid_auto_flow": null,
            "grid_auto_rows": null,
            "grid_column": null,
            "grid_gap": null,
            "grid_row": null,
            "grid_template_areas": null,
            "grid_template_columns": null,
            "grid_template_rows": null,
            "height": null,
            "justify_content": null,
            "justify_items": null,
            "left": null,
            "margin": null,
            "max_height": null,
            "max_width": null,
            "min_height": null,
            "min_width": null,
            "object_fit": null,
            "object_position": null,
            "order": null,
            "overflow": null,
            "overflow_x": null,
            "overflow_y": null,
            "padding": null,
            "right": null,
            "top": null,
            "visibility": null,
            "width": null
          }
        },
        "aa62657498314043ab3a9a9eb34f7ec1": {
          "model_module": "@jupyter-widgets/base",
          "model_name": "LayoutModel",
          "model_module_version": "1.2.0",
          "state": {
            "_model_module": "@jupyter-widgets/base",
            "_model_module_version": "1.2.0",
            "_model_name": "LayoutModel",
            "_view_count": null,
            "_view_module": "@jupyter-widgets/base",
            "_view_module_version": "1.2.0",
            "_view_name": "LayoutView",
            "align_content": null,
            "align_items": null,
            "align_self": null,
            "border": null,
            "bottom": null,
            "display": null,
            "flex": null,
            "flex_flow": null,
            "grid_area": null,
            "grid_auto_columns": null,
            "grid_auto_flow": null,
            "grid_auto_rows": null,
            "grid_column": null,
            "grid_gap": null,
            "grid_row": null,
            "grid_template_areas": null,
            "grid_template_columns": null,
            "grid_template_rows": null,
            "height": null,
            "justify_content": null,
            "justify_items": null,
            "left": null,
            "margin": null,
            "max_height": null,
            "max_width": null,
            "min_height": null,
            "min_width": null,
            "object_fit": null,
            "object_position": null,
            "order": null,
            "overflow": null,
            "overflow_x": null,
            "overflow_y": null,
            "padding": null,
            "right": null,
            "top": null,
            "visibility": null,
            "width": null
          }
        },
        "22caf37ffee74982a746aaf1158a3401": {
          "model_module": "@jupyter-widgets/controls",
          "model_name": "DescriptionStyleModel",
          "model_module_version": "1.5.0",
          "state": {
            "_model_module": "@jupyter-widgets/controls",
            "_model_module_version": "1.5.0",
            "_model_name": "DescriptionStyleModel",
            "_view_count": null,
            "_view_module": "@jupyter-widgets/base",
            "_view_module_version": "1.2.0",
            "_view_name": "StyleView",
            "description_width": ""
          }
        },
        "d45f24b3c6cd4d039121835fd09f4f5f": {
          "model_module": "@jupyter-widgets/base",
          "model_name": "LayoutModel",
          "model_module_version": "1.2.0",
          "state": {
            "_model_module": "@jupyter-widgets/base",
            "_model_module_version": "1.2.0",
            "_model_name": "LayoutModel",
            "_view_count": null,
            "_view_module": "@jupyter-widgets/base",
            "_view_module_version": "1.2.0",
            "_view_name": "LayoutView",
            "align_content": null,
            "align_items": null,
            "align_self": null,
            "border": null,
            "bottom": null,
            "display": null,
            "flex": null,
            "flex_flow": null,
            "grid_area": null,
            "grid_auto_columns": null,
            "grid_auto_flow": null,
            "grid_auto_rows": null,
            "grid_column": null,
            "grid_gap": null,
            "grid_row": null,
            "grid_template_areas": null,
            "grid_template_columns": null,
            "grid_template_rows": null,
            "height": null,
            "justify_content": null,
            "justify_items": null,
            "left": null,
            "margin": null,
            "max_height": null,
            "max_width": null,
            "min_height": null,
            "min_width": null,
            "object_fit": null,
            "object_position": null,
            "order": null,
            "overflow": null,
            "overflow_x": null,
            "overflow_y": null,
            "padding": null,
            "right": null,
            "top": null,
            "visibility": null,
            "width": null
          }
        },
        "6d50737773d843e791a7e2d69641644f": {
          "model_module": "@jupyter-widgets/controls",
          "model_name": "ProgressStyleModel",
          "model_module_version": "1.5.0",
          "state": {
            "_model_module": "@jupyter-widgets/controls",
            "_model_module_version": "1.5.0",
            "_model_name": "ProgressStyleModel",
            "_view_count": null,
            "_view_module": "@jupyter-widgets/base",
            "_view_module_version": "1.2.0",
            "_view_name": "StyleView",
            "bar_color": null,
            "description_width": ""
          }
        },
        "33f617154deb434c8157626526889007": {
          "model_module": "@jupyter-widgets/base",
          "model_name": "LayoutModel",
          "model_module_version": "1.2.0",
          "state": {
            "_model_module": "@jupyter-widgets/base",
            "_model_module_version": "1.2.0",
            "_model_name": "LayoutModel",
            "_view_count": null,
            "_view_module": "@jupyter-widgets/base",
            "_view_module_version": "1.2.0",
            "_view_name": "LayoutView",
            "align_content": null,
            "align_items": null,
            "align_self": null,
            "border": null,
            "bottom": null,
            "display": null,
            "flex": null,
            "flex_flow": null,
            "grid_area": null,
            "grid_auto_columns": null,
            "grid_auto_flow": null,
            "grid_auto_rows": null,
            "grid_column": null,
            "grid_gap": null,
            "grid_row": null,
            "grid_template_areas": null,
            "grid_template_columns": null,
            "grid_template_rows": null,
            "height": null,
            "justify_content": null,
            "justify_items": null,
            "left": null,
            "margin": null,
            "max_height": null,
            "max_width": null,
            "min_height": null,
            "min_width": null,
            "object_fit": null,
            "object_position": null,
            "order": null,
            "overflow": null,
            "overflow_x": null,
            "overflow_y": null,
            "padding": null,
            "right": null,
            "top": null,
            "visibility": null,
            "width": null
          }
        },
        "e5a7dc1aedba4c4ba1f3a4991601a3d9": {
          "model_module": "@jupyter-widgets/controls",
          "model_name": "DescriptionStyleModel",
          "model_module_version": "1.5.0",
          "state": {
            "_model_module": "@jupyter-widgets/controls",
            "_model_module_version": "1.5.0",
            "_model_name": "DescriptionStyleModel",
            "_view_count": null,
            "_view_module": "@jupyter-widgets/base",
            "_view_module_version": "1.2.0",
            "_view_name": "StyleView",
            "description_width": ""
          }
        },
        "525ef16f67fa49188018741453286444": {
          "model_module": "@jupyter-widgets/controls",
          "model_name": "HBoxModel",
          "model_module_version": "1.5.0",
          "state": {
            "_dom_classes": [],
            "_model_module": "@jupyter-widgets/controls",
            "_model_module_version": "1.5.0",
            "_model_name": "HBoxModel",
            "_view_count": null,
            "_view_module": "@jupyter-widgets/controls",
            "_view_module_version": "1.5.0",
            "_view_name": "HBoxView",
            "box_style": "",
            "children": [
              "IPY_MODEL_2614e646725547de95a8a6e6fbd5f0dc",
              "IPY_MODEL_8817dfcd793641bfb38814c3e1163652",
              "IPY_MODEL_9965ffd098694a59801746788eaa0ff3"
            ],
            "layout": "IPY_MODEL_99f75b8be4594297b7d5895df61ae6cf"
          }
        },
        "2614e646725547de95a8a6e6fbd5f0dc": {
          "model_module": "@jupyter-widgets/controls",
          "model_name": "HTMLModel",
          "model_module_version": "1.5.0",
          "state": {
            "_dom_classes": [],
            "_model_module": "@jupyter-widgets/controls",
            "_model_module_version": "1.5.0",
            "_model_name": "HTMLModel",
            "_view_count": null,
            "_view_module": "@jupyter-widgets/controls",
            "_view_module_version": "1.5.0",
            "_view_name": "HTMLView",
            "description": "",
            "description_tooltip": null,
            "layout": "IPY_MODEL_a59fbf384def47c0a87016cb74a660d0",
            "placeholder": "​",
            "style": "IPY_MODEL_a7c4ab1073694275bcef739963af9d09",
            "value": "Downloading: 100%"
          }
        },
        "8817dfcd793641bfb38814c3e1163652": {
          "model_module": "@jupyter-widgets/controls",
          "model_name": "FloatProgressModel",
          "model_module_version": "1.5.0",
          "state": {
            "_dom_classes": [],
            "_model_module": "@jupyter-widgets/controls",
            "_model_module_version": "1.5.0",
            "_model_name": "FloatProgressModel",
            "_view_count": null,
            "_view_module": "@jupyter-widgets/controls",
            "_view_module_version": "1.5.0",
            "_view_name": "ProgressView",
            "bar_style": "success",
            "description": "",
            "description_tooltip": null,
            "layout": "IPY_MODEL_723c88e2740549549c5d6c53c09834e6",
            "max": 526017373,
            "min": 0,
            "orientation": "horizontal",
            "style": "IPY_MODEL_bd35453d74f0418c9ad2d6b978b51f07",
            "value": 526017373
          }
        },
        "9965ffd098694a59801746788eaa0ff3": {
          "model_module": "@jupyter-widgets/controls",
          "model_name": "HTMLModel",
          "model_module_version": "1.5.0",
          "state": {
            "_dom_classes": [],
            "_model_module": "@jupyter-widgets/controls",
            "_model_module_version": "1.5.0",
            "_model_name": "HTMLModel",
            "_view_count": null,
            "_view_module": "@jupyter-widgets/controls",
            "_view_module_version": "1.5.0",
            "_view_name": "HTMLView",
            "description": "",
            "description_tooltip": null,
            "layout": "IPY_MODEL_149491de22144df5b9ab24cac35437fc",
            "placeholder": "​",
            "style": "IPY_MODEL_23071d9539d8433285da21c0aedb4ce7",
            "value": " 526M/526M [00:09&lt;00:00, 59.3MB/s]"
          }
        },
        "99f75b8be4594297b7d5895df61ae6cf": {
          "model_module": "@jupyter-widgets/base",
          "model_name": "LayoutModel",
          "model_module_version": "1.2.0",
          "state": {
            "_model_module": "@jupyter-widgets/base",
            "_model_module_version": "1.2.0",
            "_model_name": "LayoutModel",
            "_view_count": null,
            "_view_module": "@jupyter-widgets/base",
            "_view_module_version": "1.2.0",
            "_view_name": "LayoutView",
            "align_content": null,
            "align_items": null,
            "align_self": null,
            "border": null,
            "bottom": null,
            "display": null,
            "flex": null,
            "flex_flow": null,
            "grid_area": null,
            "grid_auto_columns": null,
            "grid_auto_flow": null,
            "grid_auto_rows": null,
            "grid_column": null,
            "grid_gap": null,
            "grid_row": null,
            "grid_template_areas": null,
            "grid_template_columns": null,
            "grid_template_rows": null,
            "height": null,
            "justify_content": null,
            "justify_items": null,
            "left": null,
            "margin": null,
            "max_height": null,
            "max_width": null,
            "min_height": null,
            "min_width": null,
            "object_fit": null,
            "object_position": null,
            "order": null,
            "overflow": null,
            "overflow_x": null,
            "overflow_y": null,
            "padding": null,
            "right": null,
            "top": null,
            "visibility": null,
            "width": null
          }
        },
        "a59fbf384def47c0a87016cb74a660d0": {
          "model_module": "@jupyter-widgets/base",
          "model_name": "LayoutModel",
          "model_module_version": "1.2.0",
          "state": {
            "_model_module": "@jupyter-widgets/base",
            "_model_module_version": "1.2.0",
            "_model_name": "LayoutModel",
            "_view_count": null,
            "_view_module": "@jupyter-widgets/base",
            "_view_module_version": "1.2.0",
            "_view_name": "LayoutView",
            "align_content": null,
            "align_items": null,
            "align_self": null,
            "border": null,
            "bottom": null,
            "display": null,
            "flex": null,
            "flex_flow": null,
            "grid_area": null,
            "grid_auto_columns": null,
            "grid_auto_flow": null,
            "grid_auto_rows": null,
            "grid_column": null,
            "grid_gap": null,
            "grid_row": null,
            "grid_template_areas": null,
            "grid_template_columns": null,
            "grid_template_rows": null,
            "height": null,
            "justify_content": null,
            "justify_items": null,
            "left": null,
            "margin": null,
            "max_height": null,
            "max_width": null,
            "min_height": null,
            "min_width": null,
            "object_fit": null,
            "object_position": null,
            "order": null,
            "overflow": null,
            "overflow_x": null,
            "overflow_y": null,
            "padding": null,
            "right": null,
            "top": null,
            "visibility": null,
            "width": null
          }
        },
        "a7c4ab1073694275bcef739963af9d09": {
          "model_module": "@jupyter-widgets/controls",
          "model_name": "DescriptionStyleModel",
          "model_module_version": "1.5.0",
          "state": {
            "_model_module": "@jupyter-widgets/controls",
            "_model_module_version": "1.5.0",
            "_model_name": "DescriptionStyleModel",
            "_view_count": null,
            "_view_module": "@jupyter-widgets/base",
            "_view_module_version": "1.2.0",
            "_view_name": "StyleView",
            "description_width": ""
          }
        },
        "723c88e2740549549c5d6c53c09834e6": {
          "model_module": "@jupyter-widgets/base",
          "model_name": "LayoutModel",
          "model_module_version": "1.2.0",
          "state": {
            "_model_module": "@jupyter-widgets/base",
            "_model_module_version": "1.2.0",
            "_model_name": "LayoutModel",
            "_view_count": null,
            "_view_module": "@jupyter-widgets/base",
            "_view_module_version": "1.2.0",
            "_view_name": "LayoutView",
            "align_content": null,
            "align_items": null,
            "align_self": null,
            "border": null,
            "bottom": null,
            "display": null,
            "flex": null,
            "flex_flow": null,
            "grid_area": null,
            "grid_auto_columns": null,
            "grid_auto_flow": null,
            "grid_auto_rows": null,
            "grid_column": null,
            "grid_gap": null,
            "grid_row": null,
            "grid_template_areas": null,
            "grid_template_columns": null,
            "grid_template_rows": null,
            "height": null,
            "justify_content": null,
            "justify_items": null,
            "left": null,
            "margin": null,
            "max_height": null,
            "max_width": null,
            "min_height": null,
            "min_width": null,
            "object_fit": null,
            "object_position": null,
            "order": null,
            "overflow": null,
            "overflow_x": null,
            "overflow_y": null,
            "padding": null,
            "right": null,
            "top": null,
            "visibility": null,
            "width": null
          }
        },
        "bd35453d74f0418c9ad2d6b978b51f07": {
          "model_module": "@jupyter-widgets/controls",
          "model_name": "ProgressStyleModel",
          "model_module_version": "1.5.0",
          "state": {
            "_model_module": "@jupyter-widgets/controls",
            "_model_module_version": "1.5.0",
            "_model_name": "ProgressStyleModel",
            "_view_count": null,
            "_view_module": "@jupyter-widgets/base",
            "_view_module_version": "1.2.0",
            "_view_name": "StyleView",
            "bar_color": null,
            "description_width": ""
          }
        },
        "149491de22144df5b9ab24cac35437fc": {
          "model_module": "@jupyter-widgets/base",
          "model_name": "LayoutModel",
          "model_module_version": "1.2.0",
          "state": {
            "_model_module": "@jupyter-widgets/base",
            "_model_module_version": "1.2.0",
            "_model_name": "LayoutModel",
            "_view_count": null,
            "_view_module": "@jupyter-widgets/base",
            "_view_module_version": "1.2.0",
            "_view_name": "LayoutView",
            "align_content": null,
            "align_items": null,
            "align_self": null,
            "border": null,
            "bottom": null,
            "display": null,
            "flex": null,
            "flex_flow": null,
            "grid_area": null,
            "grid_auto_columns": null,
            "grid_auto_flow": null,
            "grid_auto_rows": null,
            "grid_column": null,
            "grid_gap": null,
            "grid_row": null,
            "grid_template_areas": null,
            "grid_template_columns": null,
            "grid_template_rows": null,
            "height": null,
            "justify_content": null,
            "justify_items": null,
            "left": null,
            "margin": null,
            "max_height": null,
            "max_width": null,
            "min_height": null,
            "min_width": null,
            "object_fit": null,
            "object_position": null,
            "order": null,
            "overflow": null,
            "overflow_x": null,
            "overflow_y": null,
            "padding": null,
            "right": null,
            "top": null,
            "visibility": null,
            "width": null
          }
        },
        "23071d9539d8433285da21c0aedb4ce7": {
          "model_module": "@jupyter-widgets/controls",
          "model_name": "DescriptionStyleModel",
          "model_module_version": "1.5.0",
          "state": {
            "_model_module": "@jupyter-widgets/controls",
            "_model_module_version": "1.5.0",
            "_model_name": "DescriptionStyleModel",
            "_view_count": null,
            "_view_module": "@jupyter-widgets/base",
            "_view_module_version": "1.2.0",
            "_view_name": "StyleView",
            "description_width": ""
          }
        },
        "49a30513e1a24c859f78214ac8e9fbd8": {
          "model_module": "@jupyter-widgets/controls",
          "model_name": "HBoxModel",
          "model_module_version": "1.5.0",
          "state": {
            "_dom_classes": [],
            "_model_module": "@jupyter-widgets/controls",
            "_model_module_version": "1.5.0",
            "_model_name": "HBoxModel",
            "_view_count": null,
            "_view_module": "@jupyter-widgets/controls",
            "_view_module_version": "1.5.0",
            "_view_name": "HBoxView",
            "box_style": "",
            "children": [
              "IPY_MODEL_d69adf7b92a849d38c9c098155da47c7",
              "IPY_MODEL_d02496bf7c834b97b8d3156ec4efc864",
              "IPY_MODEL_9f8372b940c74f32a6aeeac8a46dbbc2"
            ],
            "layout": "IPY_MODEL_9222c9910cab4c3fa87386ea5931a772"
          }
        },
        "d69adf7b92a849d38c9c098155da47c7": {
          "model_module": "@jupyter-widgets/controls",
          "model_name": "HTMLModel",
          "model_module_version": "1.5.0",
          "state": {
            "_dom_classes": [],
            "_model_module": "@jupyter-widgets/controls",
            "_model_module_version": "1.5.0",
            "_model_name": "HTMLModel",
            "_view_count": null,
            "_view_module": "@jupyter-widgets/controls",
            "_view_module_version": "1.5.0",
            "_view_name": "HTMLView",
            "description": "",
            "description_tooltip": null,
            "layout": "IPY_MODEL_1abab1a45dc94032ab89f93a55ee0f51",
            "placeholder": "​",
            "style": "IPY_MODEL_7030c077bfd54fc48ea08655bf7f2e12",
            "value": "Downloading: 100%"
          }
        },
        "d02496bf7c834b97b8d3156ec4efc864": {
          "model_module": "@jupyter-widgets/controls",
          "model_name": "FloatProgressModel",
          "model_module_version": "1.5.0",
          "state": {
            "_dom_classes": [],
            "_model_module": "@jupyter-widgets/controls",
            "_model_module_version": "1.5.0",
            "_model_name": "FloatProgressModel",
            "_view_count": null,
            "_view_module": "@jupyter-widgets/controls",
            "_view_module_version": "1.5.0",
            "_view_name": "ProgressView",
            "bar_style": "success",
            "description": "",
            "description_tooltip": null,
            "layout": "IPY_MODEL_47c3406b13ec4f9d8a627dd1ce125c6b",
            "max": 560,
            "min": 0,
            "orientation": "horizontal",
            "style": "IPY_MODEL_0b94b050ff1149919d0b1020eedc7804",
            "value": 560
          }
        },
        "9f8372b940c74f32a6aeeac8a46dbbc2": {
          "model_module": "@jupyter-widgets/controls",
          "model_name": "HTMLModel",
          "model_module_version": "1.5.0",
          "state": {
            "_dom_classes": [],
            "_model_module": "@jupyter-widgets/controls",
            "_model_module_version": "1.5.0",
            "_model_name": "HTMLModel",
            "_view_count": null,
            "_view_module": "@jupyter-widgets/controls",
            "_view_module_version": "1.5.0",
            "_view_name": "HTMLView",
            "description": "",
            "description_tooltip": null,
            "layout": "IPY_MODEL_cb0d014c791641769e8e26e66a99fa5a",
            "placeholder": "​",
            "style": "IPY_MODEL_97a091b43abe4a25894aa5cd7637c0cb",
            "value": " 560/560 [00:00&lt;00:00, 18.1kB/s]"
          }
        },
        "9222c9910cab4c3fa87386ea5931a772": {
          "model_module": "@jupyter-widgets/base",
          "model_name": "LayoutModel",
          "model_module_version": "1.2.0",
          "state": {
            "_model_module": "@jupyter-widgets/base",
            "_model_module_version": "1.2.0",
            "_model_name": "LayoutModel",
            "_view_count": null,
            "_view_module": "@jupyter-widgets/base",
            "_view_module_version": "1.2.0",
            "_view_name": "LayoutView",
            "align_content": null,
            "align_items": null,
            "align_self": null,
            "border": null,
            "bottom": null,
            "display": null,
            "flex": null,
            "flex_flow": null,
            "grid_area": null,
            "grid_auto_columns": null,
            "grid_auto_flow": null,
            "grid_auto_rows": null,
            "grid_column": null,
            "grid_gap": null,
            "grid_row": null,
            "grid_template_areas": null,
            "grid_template_columns": null,
            "grid_template_rows": null,
            "height": null,
            "justify_content": null,
            "justify_items": null,
            "left": null,
            "margin": null,
            "max_height": null,
            "max_width": null,
            "min_height": null,
            "min_width": null,
            "object_fit": null,
            "object_position": null,
            "order": null,
            "overflow": null,
            "overflow_x": null,
            "overflow_y": null,
            "padding": null,
            "right": null,
            "top": null,
            "visibility": null,
            "width": null
          }
        },
        "1abab1a45dc94032ab89f93a55ee0f51": {
          "model_module": "@jupyter-widgets/base",
          "model_name": "LayoutModel",
          "model_module_version": "1.2.0",
          "state": {
            "_model_module": "@jupyter-widgets/base",
            "_model_module_version": "1.2.0",
            "_model_name": "LayoutModel",
            "_view_count": null,
            "_view_module": "@jupyter-widgets/base",
            "_view_module_version": "1.2.0",
            "_view_name": "LayoutView",
            "align_content": null,
            "align_items": null,
            "align_self": null,
            "border": null,
            "bottom": null,
            "display": null,
            "flex": null,
            "flex_flow": null,
            "grid_area": null,
            "grid_auto_columns": null,
            "grid_auto_flow": null,
            "grid_auto_rows": null,
            "grid_column": null,
            "grid_gap": null,
            "grid_row": null,
            "grid_template_areas": null,
            "grid_template_columns": null,
            "grid_template_rows": null,
            "height": null,
            "justify_content": null,
            "justify_items": null,
            "left": null,
            "margin": null,
            "max_height": null,
            "max_width": null,
            "min_height": null,
            "min_width": null,
            "object_fit": null,
            "object_position": null,
            "order": null,
            "overflow": null,
            "overflow_x": null,
            "overflow_y": null,
            "padding": null,
            "right": null,
            "top": null,
            "visibility": null,
            "width": null
          }
        },
        "7030c077bfd54fc48ea08655bf7f2e12": {
          "model_module": "@jupyter-widgets/controls",
          "model_name": "DescriptionStyleModel",
          "model_module_version": "1.5.0",
          "state": {
            "_model_module": "@jupyter-widgets/controls",
            "_model_module_version": "1.5.0",
            "_model_name": "DescriptionStyleModel",
            "_view_count": null,
            "_view_module": "@jupyter-widgets/base",
            "_view_module_version": "1.2.0",
            "_view_name": "StyleView",
            "description_width": ""
          }
        },
        "47c3406b13ec4f9d8a627dd1ce125c6b": {
          "model_module": "@jupyter-widgets/base",
          "model_name": "LayoutModel",
          "model_module_version": "1.2.0",
          "state": {
            "_model_module": "@jupyter-widgets/base",
            "_model_module_version": "1.2.0",
            "_model_name": "LayoutModel",
            "_view_count": null,
            "_view_module": "@jupyter-widgets/base",
            "_view_module_version": "1.2.0",
            "_view_name": "LayoutView",
            "align_content": null,
            "align_items": null,
            "align_self": null,
            "border": null,
            "bottom": null,
            "display": null,
            "flex": null,
            "flex_flow": null,
            "grid_area": null,
            "grid_auto_columns": null,
            "grid_auto_flow": null,
            "grid_auto_rows": null,
            "grid_column": null,
            "grid_gap": null,
            "grid_row": null,
            "grid_template_areas": null,
            "grid_template_columns": null,
            "grid_template_rows": null,
            "height": null,
            "justify_content": null,
            "justify_items": null,
            "left": null,
            "margin": null,
            "max_height": null,
            "max_width": null,
            "min_height": null,
            "min_width": null,
            "object_fit": null,
            "object_position": null,
            "order": null,
            "overflow": null,
            "overflow_x": null,
            "overflow_y": null,
            "padding": null,
            "right": null,
            "top": null,
            "visibility": null,
            "width": null
          }
        },
        "0b94b050ff1149919d0b1020eedc7804": {
          "model_module": "@jupyter-widgets/controls",
          "model_name": "ProgressStyleModel",
          "model_module_version": "1.5.0",
          "state": {
            "_model_module": "@jupyter-widgets/controls",
            "_model_module_version": "1.5.0",
            "_model_name": "ProgressStyleModel",
            "_view_count": null,
            "_view_module": "@jupyter-widgets/base",
            "_view_module_version": "1.2.0",
            "_view_name": "StyleView",
            "bar_color": null,
            "description_width": ""
          }
        },
        "cb0d014c791641769e8e26e66a99fa5a": {
          "model_module": "@jupyter-widgets/base",
          "model_name": "LayoutModel",
          "model_module_version": "1.2.0",
          "state": {
            "_model_module": "@jupyter-widgets/base",
            "_model_module_version": "1.2.0",
            "_model_name": "LayoutModel",
            "_view_count": null,
            "_view_module": "@jupyter-widgets/base",
            "_view_module_version": "1.2.0",
            "_view_name": "LayoutView",
            "align_content": null,
            "align_items": null,
            "align_self": null,
            "border": null,
            "bottom": null,
            "display": null,
            "flex": null,
            "flex_flow": null,
            "grid_area": null,
            "grid_auto_columns": null,
            "grid_auto_flow": null,
            "grid_auto_rows": null,
            "grid_column": null,
            "grid_gap": null,
            "grid_row": null,
            "grid_template_areas": null,
            "grid_template_columns": null,
            "grid_template_rows": null,
            "height": null,
            "justify_content": null,
            "justify_items": null,
            "left": null,
            "margin": null,
            "max_height": null,
            "max_width": null,
            "min_height": null,
            "min_width": null,
            "object_fit": null,
            "object_position": null,
            "order": null,
            "overflow": null,
            "overflow_x": null,
            "overflow_y": null,
            "padding": null,
            "right": null,
            "top": null,
            "visibility": null,
            "width": null
          }
        },
        "97a091b43abe4a25894aa5cd7637c0cb": {
          "model_module": "@jupyter-widgets/controls",
          "model_name": "DescriptionStyleModel",
          "model_module_version": "1.5.0",
          "state": {
            "_model_module": "@jupyter-widgets/controls",
            "_model_module_version": "1.5.0",
            "_model_name": "DescriptionStyleModel",
            "_view_count": null,
            "_view_module": "@jupyter-widgets/base",
            "_view_module_version": "1.2.0",
            "_view_name": "StyleView",
            "description_width": ""
          }
        },
        "3ad70f59377c496ab94aa686bc256c4a": {
          "model_module": "@jupyter-widgets/controls",
          "model_name": "HBoxModel",
          "model_module_version": "1.5.0",
          "state": {
            "_dom_classes": [],
            "_model_module": "@jupyter-widgets/controls",
            "_model_module_version": "1.5.0",
            "_model_name": "HBoxModel",
            "_view_count": null,
            "_view_module": "@jupyter-widgets/controls",
            "_view_module_version": "1.5.0",
            "_view_name": "HBoxView",
            "box_style": "",
            "children": [
              "IPY_MODEL_917821c7d67c4fceb24451f86cdb4c65",
              "IPY_MODEL_5fb0758a3a48414793668de7fd70bddf",
              "IPY_MODEL_e4610c204ef64130a529c295162cfc3f"
            ],
            "layout": "IPY_MODEL_1edc8ef2e1b34192ba5902fb5581aaa1"
          }
        },
        "917821c7d67c4fceb24451f86cdb4c65": {
          "model_module": "@jupyter-widgets/controls",
          "model_name": "HTMLModel",
          "model_module_version": "1.5.0",
          "state": {
            "_dom_classes": [],
            "_model_module": "@jupyter-widgets/controls",
            "_model_module_version": "1.5.0",
            "_model_name": "HTMLModel",
            "_view_count": null,
            "_view_module": "@jupyter-widgets/controls",
            "_view_module_version": "1.5.0",
            "_view_name": "HTMLView",
            "description": "",
            "description_tooltip": null,
            "layout": "IPY_MODEL_9c0beb094f10472f8bf24b691383b850",
            "placeholder": "​",
            "style": "IPY_MODEL_e2676e14876240b396eace3baf2d20d1",
            "value": "Downloading: 100%"
          }
        },
        "5fb0758a3a48414793668de7fd70bddf": {
          "model_module": "@jupyter-widgets/controls",
          "model_name": "FloatProgressModel",
          "model_module_version": "1.5.0",
          "state": {
            "_dom_classes": [],
            "_model_module": "@jupyter-widgets/controls",
            "_model_module_version": "1.5.0",
            "_model_name": "FloatProgressModel",
            "_view_count": null,
            "_view_module": "@jupyter-widgets/controls",
            "_view_module_version": "1.5.0",
            "_view_name": "ProgressView",
            "bar_style": "success",
            "description": "",
            "description_tooltip": null,
            "layout": "IPY_MODEL_c4281974935b4490aea8905d3d77a010",
            "max": 898669,
            "min": 0,
            "orientation": "horizontal",
            "style": "IPY_MODEL_ab032f9b277c427e8b20ff29af7980ff",
            "value": 898669
          }
        },
        "e4610c204ef64130a529c295162cfc3f": {
          "model_module": "@jupyter-widgets/controls",
          "model_name": "HTMLModel",
          "model_module_version": "1.5.0",
          "state": {
            "_dom_classes": [],
            "_model_module": "@jupyter-widgets/controls",
            "_model_module_version": "1.5.0",
            "_model_name": "HTMLModel",
            "_view_count": null,
            "_view_module": "@jupyter-widgets/controls",
            "_view_module_version": "1.5.0",
            "_view_name": "HTMLView",
            "description": "",
            "description_tooltip": null,
            "layout": "IPY_MODEL_bb510eb4e8494761abd1cfacba52ac8e",
            "placeholder": "​",
            "style": "IPY_MODEL_a6e1078ef6f5423694e683952ff900c7",
            "value": " 899k/899k [00:01&lt;00:00, 890kB/s]"
          }
        },
        "1edc8ef2e1b34192ba5902fb5581aaa1": {
          "model_module": "@jupyter-widgets/base",
          "model_name": "LayoutModel",
          "model_module_version": "1.2.0",
          "state": {
            "_model_module": "@jupyter-widgets/base",
            "_model_module_version": "1.2.0",
            "_model_name": "LayoutModel",
            "_view_count": null,
            "_view_module": "@jupyter-widgets/base",
            "_view_module_version": "1.2.0",
            "_view_name": "LayoutView",
            "align_content": null,
            "align_items": null,
            "align_self": null,
            "border": null,
            "bottom": null,
            "display": null,
            "flex": null,
            "flex_flow": null,
            "grid_area": null,
            "grid_auto_columns": null,
            "grid_auto_flow": null,
            "grid_auto_rows": null,
            "grid_column": null,
            "grid_gap": null,
            "grid_row": null,
            "grid_template_areas": null,
            "grid_template_columns": null,
            "grid_template_rows": null,
            "height": null,
            "justify_content": null,
            "justify_items": null,
            "left": null,
            "margin": null,
            "max_height": null,
            "max_width": null,
            "min_height": null,
            "min_width": null,
            "object_fit": null,
            "object_position": null,
            "order": null,
            "overflow": null,
            "overflow_x": null,
            "overflow_y": null,
            "padding": null,
            "right": null,
            "top": null,
            "visibility": null,
            "width": null
          }
        },
        "9c0beb094f10472f8bf24b691383b850": {
          "model_module": "@jupyter-widgets/base",
          "model_name": "LayoutModel",
          "model_module_version": "1.2.0",
          "state": {
            "_model_module": "@jupyter-widgets/base",
            "_model_module_version": "1.2.0",
            "_model_name": "LayoutModel",
            "_view_count": null,
            "_view_module": "@jupyter-widgets/base",
            "_view_module_version": "1.2.0",
            "_view_name": "LayoutView",
            "align_content": null,
            "align_items": null,
            "align_self": null,
            "border": null,
            "bottom": null,
            "display": null,
            "flex": null,
            "flex_flow": null,
            "grid_area": null,
            "grid_auto_columns": null,
            "grid_auto_flow": null,
            "grid_auto_rows": null,
            "grid_column": null,
            "grid_gap": null,
            "grid_row": null,
            "grid_template_areas": null,
            "grid_template_columns": null,
            "grid_template_rows": null,
            "height": null,
            "justify_content": null,
            "justify_items": null,
            "left": null,
            "margin": null,
            "max_height": null,
            "max_width": null,
            "min_height": null,
            "min_width": null,
            "object_fit": null,
            "object_position": null,
            "order": null,
            "overflow": null,
            "overflow_x": null,
            "overflow_y": null,
            "padding": null,
            "right": null,
            "top": null,
            "visibility": null,
            "width": null
          }
        },
        "e2676e14876240b396eace3baf2d20d1": {
          "model_module": "@jupyter-widgets/controls",
          "model_name": "DescriptionStyleModel",
          "model_module_version": "1.5.0",
          "state": {
            "_model_module": "@jupyter-widgets/controls",
            "_model_module_version": "1.5.0",
            "_model_name": "DescriptionStyleModel",
            "_view_count": null,
            "_view_module": "@jupyter-widgets/base",
            "_view_module_version": "1.2.0",
            "_view_name": "StyleView",
            "description_width": ""
          }
        },
        "c4281974935b4490aea8905d3d77a010": {
          "model_module": "@jupyter-widgets/base",
          "model_name": "LayoutModel",
          "model_module_version": "1.2.0",
          "state": {
            "_model_module": "@jupyter-widgets/base",
            "_model_module_version": "1.2.0",
            "_model_name": "LayoutModel",
            "_view_count": null,
            "_view_module": "@jupyter-widgets/base",
            "_view_module_version": "1.2.0",
            "_view_name": "LayoutView",
            "align_content": null,
            "align_items": null,
            "align_self": null,
            "border": null,
            "bottom": null,
            "display": null,
            "flex": null,
            "flex_flow": null,
            "grid_area": null,
            "grid_auto_columns": null,
            "grid_auto_flow": null,
            "grid_auto_rows": null,
            "grid_column": null,
            "grid_gap": null,
            "grid_row": null,
            "grid_template_areas": null,
            "grid_template_columns": null,
            "grid_template_rows": null,
            "height": null,
            "justify_content": null,
            "justify_items": null,
            "left": null,
            "margin": null,
            "max_height": null,
            "max_width": null,
            "min_height": null,
            "min_width": null,
            "object_fit": null,
            "object_position": null,
            "order": null,
            "overflow": null,
            "overflow_x": null,
            "overflow_y": null,
            "padding": null,
            "right": null,
            "top": null,
            "visibility": null,
            "width": null
          }
        },
        "ab032f9b277c427e8b20ff29af7980ff": {
          "model_module": "@jupyter-widgets/controls",
          "model_name": "ProgressStyleModel",
          "model_module_version": "1.5.0",
          "state": {
            "_model_module": "@jupyter-widgets/controls",
            "_model_module_version": "1.5.0",
            "_model_name": "ProgressStyleModel",
            "_view_count": null,
            "_view_module": "@jupyter-widgets/base",
            "_view_module_version": "1.2.0",
            "_view_name": "StyleView",
            "bar_color": null,
            "description_width": ""
          }
        },
        "bb510eb4e8494761abd1cfacba52ac8e": {
          "model_module": "@jupyter-widgets/base",
          "model_name": "LayoutModel",
          "model_module_version": "1.2.0",
          "state": {
            "_model_module": "@jupyter-widgets/base",
            "_model_module_version": "1.2.0",
            "_model_name": "LayoutModel",
            "_view_count": null,
            "_view_module": "@jupyter-widgets/base",
            "_view_module_version": "1.2.0",
            "_view_name": "LayoutView",
            "align_content": null,
            "align_items": null,
            "align_self": null,
            "border": null,
            "bottom": null,
            "display": null,
            "flex": null,
            "flex_flow": null,
            "grid_area": null,
            "grid_auto_columns": null,
            "grid_auto_flow": null,
            "grid_auto_rows": null,
            "grid_column": null,
            "grid_gap": null,
            "grid_row": null,
            "grid_template_areas": null,
            "grid_template_columns": null,
            "grid_template_rows": null,
            "height": null,
            "justify_content": null,
            "justify_items": null,
            "left": null,
            "margin": null,
            "max_height": null,
            "max_width": null,
            "min_height": null,
            "min_width": null,
            "object_fit": null,
            "object_position": null,
            "order": null,
            "overflow": null,
            "overflow_x": null,
            "overflow_y": null,
            "padding": null,
            "right": null,
            "top": null,
            "visibility": null,
            "width": null
          }
        },
        "a6e1078ef6f5423694e683952ff900c7": {
          "model_module": "@jupyter-widgets/controls",
          "model_name": "DescriptionStyleModel",
          "model_module_version": "1.5.0",
          "state": {
            "_model_module": "@jupyter-widgets/controls",
            "_model_module_version": "1.5.0",
            "_model_name": "DescriptionStyleModel",
            "_view_count": null,
            "_view_module": "@jupyter-widgets/base",
            "_view_module_version": "1.2.0",
            "_view_name": "StyleView",
            "description_width": ""
          }
        },
        "2f772fcf20014220934d7517184422d1": {
          "model_module": "@jupyter-widgets/controls",
          "model_name": "HBoxModel",
          "model_module_version": "1.5.0",
          "state": {
            "_dom_classes": [],
            "_model_module": "@jupyter-widgets/controls",
            "_model_module_version": "1.5.0",
            "_model_name": "HBoxModel",
            "_view_count": null,
            "_view_module": "@jupyter-widgets/controls",
            "_view_module_version": "1.5.0",
            "_view_name": "HBoxView",
            "box_style": "",
            "children": [
              "IPY_MODEL_a9af1b0d091e443e8116751a00e4cb17",
              "IPY_MODEL_fa0f87b45595455b840501017a0f0244",
              "IPY_MODEL_62cc46bde9c9460db55aae9537490254"
            ],
            "layout": "IPY_MODEL_ddbc5269aa0d4ef4821413fa53f1051c"
          }
        },
        "a9af1b0d091e443e8116751a00e4cb17": {
          "model_module": "@jupyter-widgets/controls",
          "model_name": "HTMLModel",
          "model_module_version": "1.5.0",
          "state": {
            "_dom_classes": [],
            "_model_module": "@jupyter-widgets/controls",
            "_model_module_version": "1.5.0",
            "_model_name": "HTMLModel",
            "_view_count": null,
            "_view_module": "@jupyter-widgets/controls",
            "_view_module_version": "1.5.0",
            "_view_name": "HTMLView",
            "description": "",
            "description_tooltip": null,
            "layout": "IPY_MODEL_b13775150ba8462188420b28618efe74",
            "placeholder": "​",
            "style": "IPY_MODEL_50b9ae315d2e4a9d84562217b9bf90fb",
            "value": "Downloading: 100%"
          }
        },
        "fa0f87b45595455b840501017a0f0244": {
          "model_module": "@jupyter-widgets/controls",
          "model_name": "FloatProgressModel",
          "model_module_version": "1.5.0",
          "state": {
            "_dom_classes": [],
            "_model_module": "@jupyter-widgets/controls",
            "_model_module_version": "1.5.0",
            "_model_name": "FloatProgressModel",
            "_view_count": null,
            "_view_module": "@jupyter-widgets/controls",
            "_view_module_version": "1.5.0",
            "_view_name": "ProgressView",
            "bar_style": "success",
            "description": "",
            "description_tooltip": null,
            "layout": "IPY_MODEL_985e5c04f4ac44b4add8f9a58201c51e",
            "max": 456318,
            "min": 0,
            "orientation": "horizontal",
            "style": "IPY_MODEL_5f1b7c16cad74294a967c5712e6db7d0",
            "value": 456318
          }
        },
        "62cc46bde9c9460db55aae9537490254": {
          "model_module": "@jupyter-widgets/controls",
          "model_name": "HTMLModel",
          "model_module_version": "1.5.0",
          "state": {
            "_dom_classes": [],
            "_model_module": "@jupyter-widgets/controls",
            "_model_module_version": "1.5.0",
            "_model_name": "HTMLModel",
            "_view_count": null,
            "_view_module": "@jupyter-widgets/controls",
            "_view_module_version": "1.5.0",
            "_view_name": "HTMLView",
            "description": "",
            "description_tooltip": null,
            "layout": "IPY_MODEL_6ee0707fd3224af8ba5b570383b1891e",
            "placeholder": "​",
            "style": "IPY_MODEL_2e5121620f8e4429b9ede3c0af432062",
            "value": " 456k/456k [00:01&lt;00:00, 495kB/s]"
          }
        },
        "ddbc5269aa0d4ef4821413fa53f1051c": {
          "model_module": "@jupyter-widgets/base",
          "model_name": "LayoutModel",
          "model_module_version": "1.2.0",
          "state": {
            "_model_module": "@jupyter-widgets/base",
            "_model_module_version": "1.2.0",
            "_model_name": "LayoutModel",
            "_view_count": null,
            "_view_module": "@jupyter-widgets/base",
            "_view_module_version": "1.2.0",
            "_view_name": "LayoutView",
            "align_content": null,
            "align_items": null,
            "align_self": null,
            "border": null,
            "bottom": null,
            "display": null,
            "flex": null,
            "flex_flow": null,
            "grid_area": null,
            "grid_auto_columns": null,
            "grid_auto_flow": null,
            "grid_auto_rows": null,
            "grid_column": null,
            "grid_gap": null,
            "grid_row": null,
            "grid_template_areas": null,
            "grid_template_columns": null,
            "grid_template_rows": null,
            "height": null,
            "justify_content": null,
            "justify_items": null,
            "left": null,
            "margin": null,
            "max_height": null,
            "max_width": null,
            "min_height": null,
            "min_width": null,
            "object_fit": null,
            "object_position": null,
            "order": null,
            "overflow": null,
            "overflow_x": null,
            "overflow_y": null,
            "padding": null,
            "right": null,
            "top": null,
            "visibility": null,
            "width": null
          }
        },
        "b13775150ba8462188420b28618efe74": {
          "model_module": "@jupyter-widgets/base",
          "model_name": "LayoutModel",
          "model_module_version": "1.2.0",
          "state": {
            "_model_module": "@jupyter-widgets/base",
            "_model_module_version": "1.2.0",
            "_model_name": "LayoutModel",
            "_view_count": null,
            "_view_module": "@jupyter-widgets/base",
            "_view_module_version": "1.2.0",
            "_view_name": "LayoutView",
            "align_content": null,
            "align_items": null,
            "align_self": null,
            "border": null,
            "bottom": null,
            "display": null,
            "flex": null,
            "flex_flow": null,
            "grid_area": null,
            "grid_auto_columns": null,
            "grid_auto_flow": null,
            "grid_auto_rows": null,
            "grid_column": null,
            "grid_gap": null,
            "grid_row": null,
            "grid_template_areas": null,
            "grid_template_columns": null,
            "grid_template_rows": null,
            "height": null,
            "justify_content": null,
            "justify_items": null,
            "left": null,
            "margin": null,
            "max_height": null,
            "max_width": null,
            "min_height": null,
            "min_width": null,
            "object_fit": null,
            "object_position": null,
            "order": null,
            "overflow": null,
            "overflow_x": null,
            "overflow_y": null,
            "padding": null,
            "right": null,
            "top": null,
            "visibility": null,
            "width": null
          }
        },
        "50b9ae315d2e4a9d84562217b9bf90fb": {
          "model_module": "@jupyter-widgets/controls",
          "model_name": "DescriptionStyleModel",
          "model_module_version": "1.5.0",
          "state": {
            "_model_module": "@jupyter-widgets/controls",
            "_model_module_version": "1.5.0",
            "_model_name": "DescriptionStyleModel",
            "_view_count": null,
            "_view_module": "@jupyter-widgets/base",
            "_view_module_version": "1.2.0",
            "_view_name": "StyleView",
            "description_width": ""
          }
        },
        "985e5c04f4ac44b4add8f9a58201c51e": {
          "model_module": "@jupyter-widgets/base",
          "model_name": "LayoutModel",
          "model_module_version": "1.2.0",
          "state": {
            "_model_module": "@jupyter-widgets/base",
            "_model_module_version": "1.2.0",
            "_model_name": "LayoutModel",
            "_view_count": null,
            "_view_module": "@jupyter-widgets/base",
            "_view_module_version": "1.2.0",
            "_view_name": "LayoutView",
            "align_content": null,
            "align_items": null,
            "align_self": null,
            "border": null,
            "bottom": null,
            "display": null,
            "flex": null,
            "flex_flow": null,
            "grid_area": null,
            "grid_auto_columns": null,
            "grid_auto_flow": null,
            "grid_auto_rows": null,
            "grid_column": null,
            "grid_gap": null,
            "grid_row": null,
            "grid_template_areas": null,
            "grid_template_columns": null,
            "grid_template_rows": null,
            "height": null,
            "justify_content": null,
            "justify_items": null,
            "left": null,
            "margin": null,
            "max_height": null,
            "max_width": null,
            "min_height": null,
            "min_width": null,
            "object_fit": null,
            "object_position": null,
            "order": null,
            "overflow": null,
            "overflow_x": null,
            "overflow_y": null,
            "padding": null,
            "right": null,
            "top": null,
            "visibility": null,
            "width": null
          }
        },
        "5f1b7c16cad74294a967c5712e6db7d0": {
          "model_module": "@jupyter-widgets/controls",
          "model_name": "ProgressStyleModel",
          "model_module_version": "1.5.0",
          "state": {
            "_model_module": "@jupyter-widgets/controls",
            "_model_module_version": "1.5.0",
            "_model_name": "ProgressStyleModel",
            "_view_count": null,
            "_view_module": "@jupyter-widgets/base",
            "_view_module_version": "1.2.0",
            "_view_name": "StyleView",
            "bar_color": null,
            "description_width": ""
          }
        },
        "6ee0707fd3224af8ba5b570383b1891e": {
          "model_module": "@jupyter-widgets/base",
          "model_name": "LayoutModel",
          "model_module_version": "1.2.0",
          "state": {
            "_model_module": "@jupyter-widgets/base",
            "_model_module_version": "1.2.0",
            "_model_name": "LayoutModel",
            "_view_count": null,
            "_view_module": "@jupyter-widgets/base",
            "_view_module_version": "1.2.0",
            "_view_name": "LayoutView",
            "align_content": null,
            "align_items": null,
            "align_self": null,
            "border": null,
            "bottom": null,
            "display": null,
            "flex": null,
            "flex_flow": null,
            "grid_area": null,
            "grid_auto_columns": null,
            "grid_auto_flow": null,
            "grid_auto_rows": null,
            "grid_column": null,
            "grid_gap": null,
            "grid_row": null,
            "grid_template_areas": null,
            "grid_template_columns": null,
            "grid_template_rows": null,
            "height": null,
            "justify_content": null,
            "justify_items": null,
            "left": null,
            "margin": null,
            "max_height": null,
            "max_width": null,
            "min_height": null,
            "min_width": null,
            "object_fit": null,
            "object_position": null,
            "order": null,
            "overflow": null,
            "overflow_x": null,
            "overflow_y": null,
            "padding": null,
            "right": null,
            "top": null,
            "visibility": null,
            "width": null
          }
        },
        "2e5121620f8e4429b9ede3c0af432062": {
          "model_module": "@jupyter-widgets/controls",
          "model_name": "DescriptionStyleModel",
          "model_module_version": "1.5.0",
          "state": {
            "_model_module": "@jupyter-widgets/controls",
            "_model_module_version": "1.5.0",
            "_model_name": "DescriptionStyleModel",
            "_view_count": null,
            "_view_module": "@jupyter-widgets/base",
            "_view_module_version": "1.2.0",
            "_view_name": "StyleView",
            "description_width": ""
          }
        },
        "5a7215c73924463e9cc205b49509815c": {
          "model_module": "@jupyter-widgets/controls",
          "model_name": "HBoxModel",
          "model_module_version": "1.5.0",
          "state": {
            "_dom_classes": [],
            "_model_module": "@jupyter-widgets/controls",
            "_model_module_version": "1.5.0",
            "_model_name": "HBoxModel",
            "_view_count": null,
            "_view_module": "@jupyter-widgets/controls",
            "_view_module_version": "1.5.0",
            "_view_name": "HBoxView",
            "box_style": "",
            "children": [
              "IPY_MODEL_b1a9eff4fa3e4ff3a955053190c387f0",
              "IPY_MODEL_6ddd425afaeb4bd6a6fd7e89eb249033",
              "IPY_MODEL_8cd6ba189fd84105bc862f20780e43b9"
            ],
            "layout": "IPY_MODEL_2929d24a8b12468faf7ebff034e171c0"
          }
        },
        "b1a9eff4fa3e4ff3a955053190c387f0": {
          "model_module": "@jupyter-widgets/controls",
          "model_name": "HTMLModel",
          "model_module_version": "1.5.0",
          "state": {
            "_dom_classes": [],
            "_model_module": "@jupyter-widgets/controls",
            "_model_module_version": "1.5.0",
            "_model_name": "HTMLModel",
            "_view_count": null,
            "_view_module": "@jupyter-widgets/controls",
            "_view_module_version": "1.5.0",
            "_view_name": "HTMLView",
            "description": "",
            "description_tooltip": null,
            "layout": "IPY_MODEL_f3888633fb8848d4835ba01ded733bf2",
            "placeholder": "​",
            "style": "IPY_MODEL_e3767c7e81074d2b81a3c1712b0b0900",
            "value": "Downloading: 100%"
          }
        },
        "6ddd425afaeb4bd6a6fd7e89eb249033": {
          "model_module": "@jupyter-widgets/controls",
          "model_name": "FloatProgressModel",
          "model_module_version": "1.5.0",
          "state": {
            "_dom_classes": [],
            "_model_module": "@jupyter-widgets/controls",
            "_model_module_version": "1.5.0",
            "_model_name": "FloatProgressModel",
            "_view_count": null,
            "_view_module": "@jupyter-widgets/controls",
            "_view_module_version": "1.5.0",
            "_view_name": "ProgressView",
            "bar_style": "success",
            "description": "",
            "description_tooltip": null,
            "layout": "IPY_MODEL_54e7e9083f8148329576ba8325e077aa",
            "max": 357,
            "min": 0,
            "orientation": "horizontal",
            "style": "IPY_MODEL_831a0a165a7a4fe5b7fd895832d65b05",
            "value": 357
          }
        },
        "8cd6ba189fd84105bc862f20780e43b9": {
          "model_module": "@jupyter-widgets/controls",
          "model_name": "HTMLModel",
          "model_module_version": "1.5.0",
          "state": {
            "_dom_classes": [],
            "_model_module": "@jupyter-widgets/controls",
            "_model_module_version": "1.5.0",
            "_model_name": "HTMLModel",
            "_view_count": null,
            "_view_module": "@jupyter-widgets/controls",
            "_view_module_version": "1.5.0",
            "_view_name": "HTMLView",
            "description": "",
            "description_tooltip": null,
            "layout": "IPY_MODEL_b2cc4ebf0a1644c7b31270fc28bb529f",
            "placeholder": "​",
            "style": "IPY_MODEL_7ee75d3a446946db849fbdfd5a402ac5",
            "value": " 357/357 [00:00&lt;00:00, 11.5kB/s]"
          }
        },
        "2929d24a8b12468faf7ebff034e171c0": {
          "model_module": "@jupyter-widgets/base",
          "model_name": "LayoutModel",
          "model_module_version": "1.2.0",
          "state": {
            "_model_module": "@jupyter-widgets/base",
            "_model_module_version": "1.2.0",
            "_model_name": "LayoutModel",
            "_view_count": null,
            "_view_module": "@jupyter-widgets/base",
            "_view_module_version": "1.2.0",
            "_view_name": "LayoutView",
            "align_content": null,
            "align_items": null,
            "align_self": null,
            "border": null,
            "bottom": null,
            "display": null,
            "flex": null,
            "flex_flow": null,
            "grid_area": null,
            "grid_auto_columns": null,
            "grid_auto_flow": null,
            "grid_auto_rows": null,
            "grid_column": null,
            "grid_gap": null,
            "grid_row": null,
            "grid_template_areas": null,
            "grid_template_columns": null,
            "grid_template_rows": null,
            "height": null,
            "justify_content": null,
            "justify_items": null,
            "left": null,
            "margin": null,
            "max_height": null,
            "max_width": null,
            "min_height": null,
            "min_width": null,
            "object_fit": null,
            "object_position": null,
            "order": null,
            "overflow": null,
            "overflow_x": null,
            "overflow_y": null,
            "padding": null,
            "right": null,
            "top": null,
            "visibility": null,
            "width": null
          }
        },
        "f3888633fb8848d4835ba01ded733bf2": {
          "model_module": "@jupyter-widgets/base",
          "model_name": "LayoutModel",
          "model_module_version": "1.2.0",
          "state": {
            "_model_module": "@jupyter-widgets/base",
            "_model_module_version": "1.2.0",
            "_model_name": "LayoutModel",
            "_view_count": null,
            "_view_module": "@jupyter-widgets/base",
            "_view_module_version": "1.2.0",
            "_view_name": "LayoutView",
            "align_content": null,
            "align_items": null,
            "align_self": null,
            "border": null,
            "bottom": null,
            "display": null,
            "flex": null,
            "flex_flow": null,
            "grid_area": null,
            "grid_auto_columns": null,
            "grid_auto_flow": null,
            "grid_auto_rows": null,
            "grid_column": null,
            "grid_gap": null,
            "grid_row": null,
            "grid_template_areas": null,
            "grid_template_columns": null,
            "grid_template_rows": null,
            "height": null,
            "justify_content": null,
            "justify_items": null,
            "left": null,
            "margin": null,
            "max_height": null,
            "max_width": null,
            "min_height": null,
            "min_width": null,
            "object_fit": null,
            "object_position": null,
            "order": null,
            "overflow": null,
            "overflow_x": null,
            "overflow_y": null,
            "padding": null,
            "right": null,
            "top": null,
            "visibility": null,
            "width": null
          }
        },
        "e3767c7e81074d2b81a3c1712b0b0900": {
          "model_module": "@jupyter-widgets/controls",
          "model_name": "DescriptionStyleModel",
          "model_module_version": "1.5.0",
          "state": {
            "_model_module": "@jupyter-widgets/controls",
            "_model_module_version": "1.5.0",
            "_model_name": "DescriptionStyleModel",
            "_view_count": null,
            "_view_module": "@jupyter-widgets/base",
            "_view_module_version": "1.2.0",
            "_view_name": "StyleView",
            "description_width": ""
          }
        },
        "54e7e9083f8148329576ba8325e077aa": {
          "model_module": "@jupyter-widgets/base",
          "model_name": "LayoutModel",
          "model_module_version": "1.2.0",
          "state": {
            "_model_module": "@jupyter-widgets/base",
            "_model_module_version": "1.2.0",
            "_model_name": "LayoutModel",
            "_view_count": null,
            "_view_module": "@jupyter-widgets/base",
            "_view_module_version": "1.2.0",
            "_view_name": "LayoutView",
            "align_content": null,
            "align_items": null,
            "align_self": null,
            "border": null,
            "bottom": null,
            "display": null,
            "flex": null,
            "flex_flow": null,
            "grid_area": null,
            "grid_auto_columns": null,
            "grid_auto_flow": null,
            "grid_auto_rows": null,
            "grid_column": null,
            "grid_gap": null,
            "grid_row": null,
            "grid_template_areas": null,
            "grid_template_columns": null,
            "grid_template_rows": null,
            "height": null,
            "justify_content": null,
            "justify_items": null,
            "left": null,
            "margin": null,
            "max_height": null,
            "max_width": null,
            "min_height": null,
            "min_width": null,
            "object_fit": null,
            "object_position": null,
            "order": null,
            "overflow": null,
            "overflow_x": null,
            "overflow_y": null,
            "padding": null,
            "right": null,
            "top": null,
            "visibility": null,
            "width": null
          }
        },
        "831a0a165a7a4fe5b7fd895832d65b05": {
          "model_module": "@jupyter-widgets/controls",
          "model_name": "ProgressStyleModel",
          "model_module_version": "1.5.0",
          "state": {
            "_model_module": "@jupyter-widgets/controls",
            "_model_module_version": "1.5.0",
            "_model_name": "ProgressStyleModel",
            "_view_count": null,
            "_view_module": "@jupyter-widgets/base",
            "_view_module_version": "1.2.0",
            "_view_name": "StyleView",
            "bar_color": null,
            "description_width": ""
          }
        },
        "b2cc4ebf0a1644c7b31270fc28bb529f": {
          "model_module": "@jupyter-widgets/base",
          "model_name": "LayoutModel",
          "model_module_version": "1.2.0",
          "state": {
            "_model_module": "@jupyter-widgets/base",
            "_model_module_version": "1.2.0",
            "_model_name": "LayoutModel",
            "_view_count": null,
            "_view_module": "@jupyter-widgets/base",
            "_view_module_version": "1.2.0",
            "_view_name": "LayoutView",
            "align_content": null,
            "align_items": null,
            "align_self": null,
            "border": null,
            "bottom": null,
            "display": null,
            "flex": null,
            "flex_flow": null,
            "grid_area": null,
            "grid_auto_columns": null,
            "grid_auto_flow": null,
            "grid_auto_rows": null,
            "grid_column": null,
            "grid_gap": null,
            "grid_row": null,
            "grid_template_areas": null,
            "grid_template_columns": null,
            "grid_template_rows": null,
            "height": null,
            "justify_content": null,
            "justify_items": null,
            "left": null,
            "margin": null,
            "max_height": null,
            "max_width": null,
            "min_height": null,
            "min_width": null,
            "object_fit": null,
            "object_position": null,
            "order": null,
            "overflow": null,
            "overflow_x": null,
            "overflow_y": null,
            "padding": null,
            "right": null,
            "top": null,
            "visibility": null,
            "width": null
          }
        },
        "7ee75d3a446946db849fbdfd5a402ac5": {
          "model_module": "@jupyter-widgets/controls",
          "model_name": "DescriptionStyleModel",
          "model_module_version": "1.5.0",
          "state": {
            "_model_module": "@jupyter-widgets/controls",
            "_model_module_version": "1.5.0",
            "_model_name": "DescriptionStyleModel",
            "_view_count": null,
            "_view_module": "@jupyter-widgets/base",
            "_view_module_version": "1.2.0",
            "_view_name": "StyleView",
            "description_width": ""
          }
        }
      }
    }
  },
  "cells": [
    {
      "cell_type": "markdown",
      "metadata": {
        "id": "view-in-github",
        "colab_type": "text"
      },
      "source": [
        "<a href=\"https://colab.research.google.com/github/kwen1510/testimonial_writer/blob/main/Testimonial_Writer.ipynb\" target=\"_parent\"><img src=\"https://colab.research.google.com/assets/colab-badge.svg\" alt=\"Open In Colab\"/></a>"
      ]
    },
    {
      "cell_type": "markdown",
      "source": [
        "## Testimonial Writer\n",
        "Run through the cells one by one."
      ],
      "metadata": {
        "id": "gELC67tYqLkl"
      }
    },
    {
      "cell_type": "code",
      "execution_count": null,
      "metadata": {
        "id": "v3WuAEaJFejx"
      },
      "outputs": [],
      "source": [
        "# Install relevant libraries\n",
        "!pip install happytransformer\n",
        "!pip install transformers sentencepiece sacremoses\n",
        "!pip install python-docx"
      ]
    },
    {
      "cell_type": "code",
      "source": [
        "from happytransformer import HappyGeneration\n",
        "gpt_neo = HappyGeneration(model_type=\"GPT-NEO\", model_name=\"EleutherAI/gpt-neo-125M\") "
      ],
      "metadata": {
        "id": "wN2OC4oFFnqU",
        "colab": {
          "base_uri": "https://localhost:8080/",
          "height": 209,
          "referenced_widgets": [
            "703653b19fc54bc1946201d8b2685973",
            "d537f1479a604ecbb64b3137a3bfb215",
            "0f3a5117008742d4afd424c6b8c964a4",
            "9f83becd55a44a1dba53e7797ed95c0e",
            "4b7fba8e9f1c4c149a8a060b11914718",
            "aa62657498314043ab3a9a9eb34f7ec1",
            "22caf37ffee74982a746aaf1158a3401",
            "d45f24b3c6cd4d039121835fd09f4f5f",
            "6d50737773d843e791a7e2d69641644f",
            "33f617154deb434c8157626526889007",
            "e5a7dc1aedba4c4ba1f3a4991601a3d9",
            "525ef16f67fa49188018741453286444",
            "2614e646725547de95a8a6e6fbd5f0dc",
            "8817dfcd793641bfb38814c3e1163652",
            "9965ffd098694a59801746788eaa0ff3",
            "99f75b8be4594297b7d5895df61ae6cf",
            "a59fbf384def47c0a87016cb74a660d0",
            "a7c4ab1073694275bcef739963af9d09",
            "723c88e2740549549c5d6c53c09834e6",
            "bd35453d74f0418c9ad2d6b978b51f07",
            "149491de22144df5b9ab24cac35437fc",
            "23071d9539d8433285da21c0aedb4ce7",
            "49a30513e1a24c859f78214ac8e9fbd8",
            "d69adf7b92a849d38c9c098155da47c7",
            "d02496bf7c834b97b8d3156ec4efc864",
            "9f8372b940c74f32a6aeeac8a46dbbc2",
            "9222c9910cab4c3fa87386ea5931a772",
            "1abab1a45dc94032ab89f93a55ee0f51",
            "7030c077bfd54fc48ea08655bf7f2e12",
            "47c3406b13ec4f9d8a627dd1ce125c6b",
            "0b94b050ff1149919d0b1020eedc7804",
            "cb0d014c791641769e8e26e66a99fa5a",
            "97a091b43abe4a25894aa5cd7637c0cb",
            "3ad70f59377c496ab94aa686bc256c4a",
            "917821c7d67c4fceb24451f86cdb4c65",
            "5fb0758a3a48414793668de7fd70bddf",
            "e4610c204ef64130a529c295162cfc3f",
            "1edc8ef2e1b34192ba5902fb5581aaa1",
            "9c0beb094f10472f8bf24b691383b850",
            "e2676e14876240b396eace3baf2d20d1",
            "c4281974935b4490aea8905d3d77a010",
            "ab032f9b277c427e8b20ff29af7980ff",
            "bb510eb4e8494761abd1cfacba52ac8e",
            "a6e1078ef6f5423694e683952ff900c7",
            "2f772fcf20014220934d7517184422d1",
            "a9af1b0d091e443e8116751a00e4cb17",
            "fa0f87b45595455b840501017a0f0244",
            "62cc46bde9c9460db55aae9537490254",
            "ddbc5269aa0d4ef4821413fa53f1051c",
            "b13775150ba8462188420b28618efe74",
            "50b9ae315d2e4a9d84562217b9bf90fb",
            "985e5c04f4ac44b4add8f9a58201c51e",
            "5f1b7c16cad74294a967c5712e6db7d0",
            "6ee0707fd3224af8ba5b570383b1891e",
            "2e5121620f8e4429b9ede3c0af432062",
            "5a7215c73924463e9cc205b49509815c",
            "b1a9eff4fa3e4ff3a955053190c387f0",
            "6ddd425afaeb4bd6a6fd7e89eb249033",
            "8cd6ba189fd84105bc862f20780e43b9",
            "2929d24a8b12468faf7ebff034e171c0",
            "f3888633fb8848d4835ba01ded733bf2",
            "e3767c7e81074d2b81a3c1712b0b0900",
            "54e7e9083f8148329576ba8325e077aa",
            "831a0a165a7a4fe5b7fd895832d65b05",
            "b2cc4ebf0a1644c7b31270fc28bb529f",
            "7ee75d3a446946db849fbdfd5a402ac5"
          ]
        },
        "outputId": "56a033f3-1019-4754-ea73-357dcc56ecfe"
      },
      "execution_count": null,
      "outputs": [
        {
          "output_type": "display_data",
          "data": {
            "text/plain": [
              "Downloading:   0%|          | 0.00/1.01k [00:00<?, ?B/s]"
            ],
            "application/vnd.jupyter.widget-view+json": {
              "version_major": 2,
              "version_minor": 0,
              "model_id": "703653b19fc54bc1946201d8b2685973"
            }
          },
          "metadata": {}
        },
        {
          "output_type": "display_data",
          "data": {
            "text/plain": [
              "Downloading:   0%|          | 0.00/526M [00:00<?, ?B/s]"
            ],
            "application/vnd.jupyter.widget-view+json": {
              "version_major": 2,
              "version_minor": 0,
              "model_id": "525ef16f67fa49188018741453286444"
            }
          },
          "metadata": {}
        },
        {
          "output_type": "display_data",
          "data": {
            "text/plain": [
              "Downloading:   0%|          | 0.00/560 [00:00<?, ?B/s]"
            ],
            "application/vnd.jupyter.widget-view+json": {
              "version_major": 2,
              "version_minor": 0,
              "model_id": "49a30513e1a24c859f78214ac8e9fbd8"
            }
          },
          "metadata": {}
        },
        {
          "output_type": "display_data",
          "data": {
            "text/plain": [
              "Downloading:   0%|          | 0.00/899k [00:00<?, ?B/s]"
            ],
            "application/vnd.jupyter.widget-view+json": {
              "version_major": 2,
              "version_minor": 0,
              "model_id": "3ad70f59377c496ab94aa686bc256c4a"
            }
          },
          "metadata": {}
        },
        {
          "output_type": "display_data",
          "data": {
            "text/plain": [
              "Downloading:   0%|          | 0.00/456k [00:00<?, ?B/s]"
            ],
            "application/vnd.jupyter.widget-view+json": {
              "version_major": 2,
              "version_minor": 0,
              "model_id": "2f772fcf20014220934d7517184422d1"
            }
          },
          "metadata": {}
        },
        {
          "output_type": "display_data",
          "data": {
            "text/plain": [
              "Downloading:   0%|          | 0.00/357 [00:00<?, ?B/s]"
            ],
            "application/vnd.jupyter.widget-view+json": {
              "version_major": 2,
              "version_minor": 0,
              "model_id": "5a7215c73924463e9cc205b49509815c"
            }
          },
          "metadata": {}
        }
      ]
    },
    {
      "cell_type": "code",
      "source": [
        "# https://towardsdatascience.com/different-ways-to-connect-google-drive-to-a-google-colab-notebook-pt-1-de03433d2f7a\n",
        "\n",
        "from google.colab import drive\n",
        "drive.mount('/content/gdrive/', force_remount=True)\n",
        "%cd gdrive/MyDrive/Testimonial_Writer\n",
        "!ls"
      ],
      "metadata": {
        "colab": {
          "base_uri": "https://localhost:8080/"
        },
        "id": "03_GduNcFrYM",
        "outputId": "871dbc97-ef5c-42af-f30c-93fdff0f1f45"
      },
      "execution_count": 11,
      "outputs": [
        {
          "output_type": "stream",
          "name": "stdout",
          "text": [
            "Mounted at /content/gdrive/\n",
            "/content/gdrive/MyDrive/Testimonial_Writer\n",
            "doc  train.txt\ttxt\n"
          ]
        }
      ]
    },
    {
      "cell_type": "code",
      "source": [
        "from happytransformer import GENSettings\n",
        "\n",
        "seed_phrase = \"Gabriel is a kind and respectful student.\"\n",
        "\n",
        "top_k_sampling_settings = GENSettings(do_sample=True, top_k=50, max_length=30, min_length=10)\n",
        "output_top_k_sampling = gpt_neo.generate_text(seed_phrase, args=top_k_sampling_settings)\n",
        "\n",
        "subsequent_text = output_top_k_sampling.text\n",
        "full_text = seed_phrase + subsequent_text\n",
        "\n",
        "print(full_text)"
      ],
      "metadata": {
        "id": "f2k5QZf-GP5e",
        "colab": {
          "base_uri": "https://localhost:8080/"
        },
        "outputId": "63ab4c04-644e-44b3-e11c-ad2cce512809"
      },
      "execution_count": null,
      "outputs": [
        {
          "output_type": "stream",
          "name": "stderr",
          "text": [
            "Setting `pad_token_id` to `eos_token_id`:50256 for open-end generation.\n"
          ]
        },
        {
          "output_type": "stream",
          "name": "stdout",
          "text": [
            "Gabriel is a kind and respectful student. She is dedicated to helping all those who need her, who want to help others see them as they are, even if only as a kind, compassionate\n"
          ]
        }
      ]
    },
    {
      "cell_type": "markdown",
      "source": [
        "#Fine-tuning\n"
      ],
      "metadata": {
        "id": "Ah-8IKimN8Pb"
      }
    },
    {
      "cell_type": "code",
      "source": [
        "# https://happytransformer.com/learning-parameters/\n",
        "\n",
        "# https://happytransformer.com/save-load-model/ (saving and loading weights)\n",
        "\n",
        "from happytransformer import HappyGeneration, GENTrainArgs\n",
        "\n",
        "gpt_neo = HappyGeneration(\"GPT-Neo\", \"EleutherAI/gpt-neo-125M\") \n",
        "\n",
        "train_args = GENTrainArgs(num_train_epochs=3) # epoch=3\n",
        "\n",
        "gpt_neo.train(\"train.txt\", args=train_args)"
      ],
      "metadata": {
        "id": "JiGF0pzCN-Pu"
      },
      "execution_count": null,
      "outputs": []
    },
    {
      "cell_type": "code",
      "source": [
        "def generate_text_from_trained(seed_phrase, min_length=50, max_length=200):\n",
        "\n",
        "  top_k_sampling_settings = GENSettings(do_sample=True, top_k=50, max_length=max_length, min_length=min_length)\n",
        "  output_top_k_sampling = gpt_neo.generate_text(seed_phrase, args=top_k_sampling_settings)\n",
        "\n",
        "  subsequent_text = output_top_k_sampling.text\n",
        "  full_text = seed_phrase + subsequent_text\n",
        "\n",
        "  return full_text"
      ],
      "metadata": {
        "id": "XENXFqJKSrGV"
      },
      "execution_count": null,
      "outputs": []
    },
    {
      "cell_type": "code",
      "source": [
        "# Allow text wrap\n",
        "\n",
        "from IPython.display import HTML, display\n",
        " \n",
        "def set_css():\n",
        "  display(HTML('''\n",
        "  <style>\n",
        "    pre {\n",
        "        white-space: pre-wrap;\n",
        "    }\n",
        "  </style>\n",
        "  '''))\n",
        "get_ipython().events.register('pre_run_cell', set_css)\n",
        "\n",
        "# Test with a seed phrase\n",
        "seed_phrase = \"He is a hardworking and diligent student. He\"\n",
        "\n",
        "generated_text = generate_text_from_trained(seed_phrase,50,200)\n",
        "\n",
        "print(\"\")\n",
        "print(generated_text)"
      ],
      "metadata": {
        "id": "l0rznwVYPYMu",
        "colab": {
          "base_uri": "https://localhost:8080/"
        },
        "outputId": "84d2548f-6dc7-45d6-9104-ce1c0aba97b2"
      },
      "execution_count": null,
      "outputs": [
        {
          "output_type": "stream",
          "name": "stderr",
          "text": [
            "Setting `pad_token_id` to `eos_token_id`:50256 for open-end generation.\n"
          ]
        },
        {
          "output_type": "stream",
          "name": "stdout",
          "text": [
            "\n",
            "He is a hardworking and diligent student. He keeps the classroom clean and maintains his composure during lessons and lessons in an amiable and confident manner. He is diligent and meticulous as well, and this allows him to be a valuable class member in whichever organisation he is from. He is also a kind and good friend to both his teachers and peers. Possessing a sincere and kind heart, he will always find a good fit for his job in any organisation or organisation. He is a responsible individual who contributes to the community - he displays commitment to all that he undertakes, and he enjoys interacting with people of all social backgrounds. As a student in the History and Economics department, he made a conscious effort to understand the issues that led to the development of the country. He was receptive to feedback, was mature and was highly disciplined. When facing adversity, he was especially passionate about making a positive impact, and he developed a positive attitude even as he matured into a stronger person. His ability to cope quickly and with the necessary discipline was one of his\n"
          ]
        }
      ]
    },
    {
      "cell_type": "markdown",
      "source": [
        "# Create paraphraser here\n",
        "Looks like I might not actually need it. And it looks more like a summary than a paraphraser."
      ],
      "metadata": {
        "id": "1QS5GVuxJOvo"
      }
    },
    {
      "cell_type": "code",
      "source": [
        "# Import transformers\n",
        "\n",
        "from transformers import *"
      ],
      "metadata": {
        "id": "XUEq3z_iJRlN",
        "colab": {
          "base_uri": "https://localhost:8080/",
          "height": 17
        },
        "outputId": "cae277c1-5c91-4ebd-8606-93d7addf233b"
      },
      "execution_count": null,
      "outputs": [
        {
          "output_type": "display_data",
          "data": {
            "text/plain": [
              "<IPython.core.display.HTML object>"
            ],
            "text/html": [
              "\n",
              "  <style>\n",
              "    pre {\n",
              "        white-space: pre-wrap;\n",
              "    }\n",
              "  </style>\n",
              "  "
            ]
          },
          "metadata": {}
        }
      ]
    },
    {
      "cell_type": "code",
      "source": [
        "# models we gonna use for this tutorial\n",
        "model_names = [\n",
        "  \"tuner007/pegasus_paraphrase\",\n",
        "  \"Vamsi/T5_Paraphrase_Paws\",\n",
        "  \"prithivida/parrot_paraphraser_on_T5\", # Parrot\n",
        "]"
      ],
      "metadata": {
        "id": "zjog3MGBb9By",
        "colab": {
          "base_uri": "https://localhost:8080/",
          "height": 17
        },
        "outputId": "5ef59c80-96d3-49dd-909d-228c0d1d915a"
      },
      "execution_count": null,
      "outputs": [
        {
          "output_type": "display_data",
          "data": {
            "text/plain": [
              "<IPython.core.display.HTML object>"
            ],
            "text/html": [
              "\n",
              "  <style>\n",
              "    pre {\n",
              "        white-space: pre-wrap;\n",
              "    }\n",
              "  </style>\n",
              "  "
            ]
          },
          "metadata": {}
        }
      ]
    },
    {
      "cell_type": "code",
      "source": [
        "model = PegasusForConditionalGeneration.from_pretrained(\"tuner007/pegasus_paraphrase\")\n",
        "tokenizer = PegasusTokenizerFast.from_pretrained(\"tuner007/pegasus_paraphrase\")"
      ],
      "metadata": {
        "id": "Zi8yJB2Zb-pU"
      },
      "execution_count": null,
      "outputs": []
    },
    {
      "cell_type": "code",
      "source": [
        "def get_paraphrased_sentences(model, tokenizer, sentence, num_return_sequences=5, num_beams=5):\n",
        "  # tokenize the text to be form of a list of token IDs\n",
        "  inputs = tokenizer([sentence], truncation=True, padding=\"longest\", return_tensors=\"pt\")\n",
        "  # generate the paraphrased sentences\n",
        "  outputs = model.generate(\n",
        "    **inputs,\n",
        "    num_beams=num_beams,\n",
        "    num_return_sequences=num_return_sequences,\n",
        "  )\n",
        "  # decode the generated sentences using the tokenizer to get them back to text\n",
        "  return tokenizer.batch_decode(outputs, skip_special_tokens=True)"
      ],
      "metadata": {
        "id": "mF-_9jWTmung",
        "colab": {
          "base_uri": "https://localhost:8080/",
          "height": 17
        },
        "outputId": "a24eba46-f752-4b4f-9fc4-a3e2382a5847"
      },
      "execution_count": null,
      "outputs": [
        {
          "output_type": "display_data",
          "data": {
            "text/plain": [
              "<IPython.core.display.HTML object>"
            ],
            "text/html": [
              "\n",
              "  <style>\n",
              "    pre {\n",
              "        white-space: pre-wrap;\n",
              "    }\n",
              "  </style>\n",
              "  "
            ]
          },
          "metadata": {}
        }
      ]
    },
    {
      "cell_type": "code",
      "source": [
        "# Split the passage up into sentences, then combine back together\n",
        "\n",
        "passage = \"Jane is a House Captain for the Moor-Tarbet House Directorate of Students' Council. In her Co-curricular Activity (CCA), her role was to oversee the entire CCA and made sure no one is slacking. During that time, She planned a big big big big big event! From her experiences, She learnt how to manage expectations and plan excellent events.\"\n",
        "\n",
        "sentences = passage.split(\".\")\n",
        "\n",
        "for sentence in sentences:\n",
        "  sentence = sentence + \".\"\n",
        "\n",
        "  print(sentence)\n",
        "\n",
        "  # Get first element of returned value\n",
        "  paraphrased_sentence = get_paraphrased_sentences(model, tokenizer, sentence, num_beams=10, num_return_sequences=1)[0]\n",
        "\n",
        "  print(paraphrased_sentence)"
      ],
      "metadata": {
        "id": "TKMIWtNpmwxv"
      },
      "execution_count": null,
      "outputs": []
    },
    {
      "cell_type": "markdown",
      "source": [
        "# Generate Testimonials\n"
      ],
      "metadata": {
        "id": "X1v9KKKwIlrY"
      }
    },
    {
      "cell_type": "code",
      "source": [
        "import random\n",
        "\n",
        "# Student profile\n",
        "name = 'Jane' #@param {type:\"string\"}\n",
        "gender = 'female' #@param [\"male\", \"female\"]\n",
        "\n",
        "# Initialise empty paragraphs\n",
        "paragraph_1 = \"\"\n",
        "paragraph_2 = \"\"\n",
        "paragraph_3 = \"\"\n",
        "paragraph_4 = \"\"\n",
        "paragraph_5 = \"\"\n",
        "paragraph_6 = \"\"\n",
        "paragraph_7 = \"\"\n",
        "paragraph_8 = \"\"\n",
        "\n",
        "# Create gender checking code\n",
        "def check_gender(text, gender):\n",
        "  if gender == 'female':\n",
        "    text = text.replace(\" he \", \" she \")\n",
        "    text = text.replace(\" his \", \" her \")\n",
        "    text = text.replace(\" him \", \" her \")\n",
        "    text = text.replace(\" him.\", \" her.\")\n",
        "    text = text.replace(\"himself\", \"herself\")\n",
        "    text = text.replace(\"His \", \"Her \")\n",
        "    text = text.replace(\"He \", \"She \")\n",
        "  else:\n",
        "    text = text.replace(\" she \", \" he \")\n",
        "    text = text.replace(\" her \", \" his \")\n",
        "    text = text.replace(\" her.\", \" him.\")\n",
        "    text = text.replace(\"herself\", \"himself\")\n",
        "    text = text.replace(\"Her \", \"His \")\n",
        "    text = text.replace(\"She \", \"He \")   \n",
        "\n",
        "  return text"
      ],
      "metadata": {
        "colab": {
          "base_uri": "https://localhost:8080/",
          "height": 17
        },
        "id": "sji-9906AbIX",
        "outputId": "361d235e-19fe-487f-c579-1dda2e80bf1b",
        "cellView": "form"
      },
      "execution_count": null,
      "outputs": [
        {
          "output_type": "display_data",
          "data": {
            "text/plain": [
              "<IPython.core.display.HTML object>"
            ],
            "text/html": [
              "\n",
              "  <style>\n",
              "    pre {\n",
              "        white-space: pre-wrap;\n",
              "    }\n",
              "  </style>\n",
              "  "
            ]
          },
          "metadata": {}
        }
      ]
    },
    {
      "cell_type": "code",
      "source": [
        "# Paragraph 1 - General traits\n",
        "\n",
        "#@markdown Please reset the cell to regenerate the paragraph\n",
        "\n",
        "def a_or_an(word):\n",
        "  vowels = ['a','e','i','o','u']\n",
        "  if word[0] in vowels:\n",
        "    return ' an '\n",
        "  else:\n",
        "    return ' a '\n",
        "\n",
        "trait_1 = 'hardworking' #@param {type:\"string\"}\n",
        "trait_2 = 'respectful' #@param {type:\"string\"}\n",
        "\n",
        "seed_phrase_1 = name + \" is\" + a_or_an(trait_1) + trait_1\n",
        "seed_phrase_2 = \"He is\" + a_or_an(trait_2) + trait_2\n",
        "\n",
        "number_of_choices = 5 #@param {type:\"slider\", min:1, max:10, step:1}\n",
        "\n",
        "# Create an array\n",
        "generated_text_array = []\n",
        "\n",
        "for i in range(number_of_choices):\n",
        "\n",
        "  generated_text_1 = generate_text_from_trained(seed_phrase_1,10,30)\n",
        "\n",
        "  # Remove text after full stop\n",
        "  generated_text_1 = generated_text_1.split('.')[0] + '.'\n",
        "\n",
        "  generated_text_2 = generate_text_from_trained(seed_phrase_2,10,30)\n",
        "\n",
        "  # Remove text after full stop\n",
        "  generated_text_2 = generated_text_2.split('.')[0] + '.'\n",
        "\n",
        "  paragraph_1 = generated_text_1 + \" \" + generated_text_2\n",
        "\n",
        "  paragraph_1 = check_gender(paragraph_1, gender)\n",
        "\n",
        "  generated_text_array.append(paragraph_1)\n",
        "\n",
        "for index, paragraph in enumerate(generated_text_array):\n",
        "  print(\"\")\n",
        "  print(f\"{index+1}: {paragraph}\")"
      ],
      "metadata": {
        "colab": {
          "base_uri": "https://localhost:8080/",
          "height": 451
        },
        "id": "YVZ0gYFa_iyB",
        "outputId": "ddcf02a0-885c-43fa-ee32-5c6132e8ea8f",
        "cellView": "form"
      },
      "execution_count": null,
      "outputs": [
        {
          "output_type": "display_data",
          "data": {
            "text/plain": [
              "<IPython.core.display.HTML object>"
            ],
            "text/html": [
              "\n",
              "  <style>\n",
              "    pre {\n",
              "        white-space: pre-wrap;\n",
              "    }\n",
              "  </style>\n",
              "  "
            ]
          },
          "metadata": {}
        },
        {
          "output_type": "stream",
          "name": "stderr",
          "text": [
            "Setting `pad_token_id` to `eos_token_id`:50256 for open-end generation.\n",
            "Setting `pad_token_id` to `eos_token_id`:50256 for open-end generation.\n",
            "Setting `pad_token_id` to `eos_token_id`:50256 for open-end generation.\n",
            "Setting `pad_token_id` to `eos_token_id`:50256 for open-end generation.\n",
            "Setting `pad_token_id` to `eos_token_id`:50256 for open-end generation.\n",
            "Setting `pad_token_id` to `eos_token_id`:50256 for open-end generation.\n",
            "Setting `pad_token_id` to `eos_token_id`:50256 for open-end generation.\n",
            "Setting `pad_token_id` to `eos_token_id`:50256 for open-end generation.\n",
            "Setting `pad_token_id` to `eos_token_id`:50256 for open-end generation.\n",
            "Setting `pad_token_id` to `eos_token_id`:50256 for open-end generation.\n"
          ]
        },
        {
          "output_type": "stream",
          "name": "stdout",
          "text": [
            "\n",
            "1: Jane is a hardworking and intelligent individual who consistently puts in effort to improve herself. She is a respectful character who constantly seeks to improve by giving her views regardless and her opinions often convey a positive attitude, her moral character is a testament to her intellectual strength.\n",
            "\n",
            "2: Jane is a hardworking lady with a heart to serve the wider community. She is a respectful young lady who embraces a warm and inclusive spirit and will be an asset to any institution; her friends surely feel the same way about her.\n",
            "\n",
            "3: Jane is a hardworking student. She is a respectful and caring individual who has the potential to excel in any area of her work.\n",
            "\n",
            "4: Jane is a hardworking young lady with an inquiring mind. She is a respectful student who was willing to go the extra mile to help with her academic work and would willingly listen to and understand the views of others.\n",
            "\n",
            "5: Jane is a hardworking, self-directed and focused individual and has consistently demonstrated exemplary attitude and self-motivation. She is a respectful student who actively participates in class discussions.\n"
          ]
        }
      ]
    },
    {
      "cell_type": "code",
      "source": [
        "# Can include a section on FIRE award\n",
        "\n",
        "choice = 5 #@param {type:\"integer\"}\n",
        "\n",
        "likeable = True #@param {type:\"boolean\"}\n",
        "\n",
        "FIRE_award = True #@param {type:\"boolean\"}\n",
        "\n",
        "if choice > number_of_choices or choice < 1:\n",
        "  print(f\"Please choose a number from 1 to {number_of_choices}.\")\n",
        "else:\n",
        "  paragraph_chosen = generated_text_array[choice-1]\n",
        "\n",
        "  # Include text if student is likeable\n",
        "  if likeable:\n",
        "    paragraph_chosen = paragraph_chosen + \" He has an amiable personality and is well-liked by his peers.\"\n",
        "\n",
        "  if FIRE_award:\n",
        "    paragraph_chosen = paragraph_chosen + \" He was quite exemplary in his behaviour and attitude and thus he was a recipient of the school's F.I.R.E. award - which is for students who are role models and display the school's core values of fortitude, integrity, respect and enterprise.\"\n",
        "\n",
        "  paragraph_1 = paragraph_chosen\n",
        "\n",
        "  paragraph_1 = check_gender(paragraph_1, gender)\n",
        "\n",
        "  print(f\"You chose: {paragraph_1}\")"
      ],
      "metadata": {
        "colab": {
          "base_uri": "https://localhost:8080/",
          "height": 86
        },
        "id": "AHPUJf-OevVD",
        "outputId": "66c6cb50-f9c3-4148-f9e4-23b80fea5fb9",
        "cellView": "form"
      },
      "execution_count": null,
      "outputs": [
        {
          "output_type": "display_data",
          "data": {
            "text/plain": [
              "<IPython.core.display.HTML object>"
            ],
            "text/html": [
              "\n",
              "  <style>\n",
              "    pre {\n",
              "        white-space: pre-wrap;\n",
              "    }\n",
              "  </style>\n",
              "  "
            ]
          },
          "metadata": {}
        },
        {
          "output_type": "stream",
          "name": "stdout",
          "text": [
            "You chose: Jane is a hardworking, self-directed and focused individual and has consistently demonstrated exemplary attitude and self-motivation. She is a respectful student who actively participates in class discussions. She has an amiable personality and is well-liked by her peers. She was quite exemplary in her behaviour and attitude and thus she was a recipient of the school's F.I.R.E. award - which is for students who are role models and display the school's core values of fortitude, integrity, respect and enterprise.\n"
          ]
        }
      ]
    },
    {
      "cell_type": "code",
      "source": [
        "# Paragraph 2 - Academics\n",
        "\n",
        "acad_passage = {\n",
        "    'weak':\"When it came to his academic studies, <name> set clear targets for himself and strove to achieve them. He demonstrated perseverance in the face of adversity and was never afraid to seek help when needed.\",\n",
        "    'okay':\"Academically, <name> was a conscientious student who strove to do his best in every situation. He was persistent in his pursuit of improvement and never gave up in the face of challenges. Unyielding towards setbacks, <name>'s perseverance paid off as he made steady improvement in many of his subjects.\",\n",
        "    'outstanding':\"Academically, <name> was a consistent and strong performer. His ability to reflect on his learning and keep pace with the rigorous school curriculum were key to his academic success. As an independent learner, <name> took a systematic and proactive approach to monitoring his own progress. He developed strong cognitive and analytical skills over the two years and impressed his teachers with his dedication to his academic responsibilities.\"\n",
        "}\n",
        "\n",
        "student_acad_ability = \"outstanding\" #@param [\"weak\", \"okay\", \"outstanding\"]\n",
        "\n",
        "paragraph_2 = acad_passage[student_acad_ability]\n",
        "\n",
        "paragraph_2 = paragraph_2.replace('<name>',name)\n",
        "\n",
        "paragraph_2 = check_gender(paragraph_2, gender)\n",
        "\n",
        "print(paragraph_2)\n",
        "\n",
        "# Need to include paraphraser here"
      ],
      "metadata": {
        "colab": {
          "base_uri": "https://localhost:8080/",
          "height": 69
        },
        "id": "y3mIdG4n_sCg",
        "outputId": "e80b5f0f-016c-4a38-98fa-35f817bf0e3d",
        "cellView": "form"
      },
      "execution_count": null,
      "outputs": [
        {
          "output_type": "display_data",
          "data": {
            "text/plain": [
              "<IPython.core.display.HTML object>"
            ],
            "text/html": [
              "\n",
              "  <style>\n",
              "    pre {\n",
              "        white-space: pre-wrap;\n",
              "    }\n",
              "  </style>\n",
              "  "
            ]
          },
          "metadata": {}
        },
        {
          "output_type": "stream",
          "name": "stdout",
          "text": [
            "Academically, Jane was a consistent and strong performer. Her ability to reflect on her learning and keep pace with the rigorous school curriculum were key to her academic success. As an independent learner, Jane took a systematic and proactive approach to monitoring her own progress. She developed strong cognitive and analytical skills over the two years and impressed her teachers with her dedication to her academic responsibilities.\n"
          ]
        }
      ]
    },
    {
      "cell_type": "code",
      "source": [
        "# Paragraph 3 - PW\n",
        "\n",
        "# Can include a few more standard answers\n",
        "\n",
        "role = \"member\" #@param [\"N.A.\", \"leader\", \"member\"]\n",
        "\n",
        "#@markdown Please check the overwrite box to key in your own comments\n",
        "\n",
        "overwrite = True #@param {type:\"boolean\"}\n",
        "\n",
        "#@markdown \"As the leader/member of his Project Work group, ...\"\n",
        "text = \"she made sure that everyone put in the due effort. She was respectful of people's opinions.\" #@param {type:\"string\"}\n",
        "\n",
        "role_passage = {\n",
        "    'leader':\"As the leader of his Project Work group, \",\n",
        "    'member':\"As a member of his Project Work group, \"\n",
        "}\n",
        "\n",
        "if role == \"N.A.\":\n",
        "  paragraph_3 = \"\"\n",
        "elif overwrite == False:\n",
        "  paragraph_3 = role_passage[role] + \"<name> was always respectful of others’ opinions and he always took the time to explain the rationale behind his decisions to ensure that everyone was comfortable and happy with the outcome.\"\n",
        "else:\n",
        "  paragraph_3 = role_passage[role] + text\n",
        "  \n",
        "paragraph_3 = paragraph_3.replace('<name>',name)\n",
        "\n",
        "paragraph_3 = check_gender(paragraph_3, gender)\n",
        "\n",
        "print(paragraph_3)"
      ],
      "metadata": {
        "colab": {
          "base_uri": "https://localhost:8080/",
          "height": 34
        },
        "id": "UrAF5LJ8_tWP",
        "outputId": "50bcdf0b-ddd9-49b7-dac1-5cff9d30126f",
        "cellView": "form"
      },
      "execution_count": null,
      "outputs": [
        {
          "output_type": "display_data",
          "data": {
            "text/plain": [
              "<IPython.core.display.HTML object>"
            ],
            "text/html": [
              "\n",
              "  <style>\n",
              "    pre {\n",
              "        white-space: pre-wrap;\n",
              "    }\n",
              "  </style>\n",
              "  "
            ]
          },
          "metadata": {}
        },
        {
          "output_type": "stream",
          "name": "stdout",
          "text": [
            "As a member of her Project Work group, she made sure that everyone put in the due effort. She was respectful of people's opinions.\n"
          ]
        }
      ]
    },
    {
      "cell_type": "code",
      "source": [
        "# Paragraph 4 - CCA_1\n",
        "\n",
        "# Might need to include personal traits (see testimonial document)\n",
        "\n",
        "CCA = \"Students' Council\" #@param {type:\"string\"}\n",
        "role = \"House Captain for the Moor-Tarbet House Directorate\" #@param {type:\"string\"}\n",
        "\n",
        "task_ = True #@param {type:\"boolean\"}\n",
        "#@markdown \"In his Co-curricular Activity (CCA), ...\"\n",
        "task = \"her role was to oversee the entire CCA and made sure no one is slacking.\" #@param {type:\"string\"}\n",
        "\n",
        "experience_ = True #@param {type:\"boolean\"}\n",
        "#@markdown \"During that time, ...\" (Can include setbacks/experiences)\n",
        "experience = \"She planned multiple big events and worked with many groups. One notable event was planning Orientation. She messed up many times but came back stronger each time.\" #@param {type:\"string\"}\n",
        "\n",
        "lesson_ = True #@param {type:\"boolean\"}\n",
        "#@markdown \"From his experiences, ...\" (use learnt/honed/demonstrated)\n",
        "lesson = \"She learnt how to manage expectations and plan excellent events.\" #@param {type:\"string\"}\n",
        "\n",
        "award_ = False #@param {type:\"boolean\"}\n",
        "#@markdown \"As a result of his perseverance and dedication, ...\"\n",
        "award = \"\" #@param {type:\"string\"}\n",
        "\n",
        "paragraph_4 = f\"{name} is{a_or_an(role)}{role} of {CCA}.\"\n",
        "\n",
        "if task_ == True:\n",
        "  paragraph_4 += f\" In his Co-curricular Activity (CCA), {task}\"\n",
        "if experience_ == True:\n",
        "  paragraph_4 += f\" During that time, {experience}\"\n",
        "if lesson_ == True:\n",
        "  paragraph_4 += f\" From his experiences, {lesson}\"\n",
        "if award_ == True:\n",
        "  paragraph_4 += f\" As a result of his perseverance and dedication, {award}\"\n",
        "\n",
        "paragraph_4 = check_gender(paragraph_4, gender)\n",
        "\n",
        "print(paragraph_4)"
      ],
      "metadata": {
        "colab": {
          "base_uri": "https://localhost:8080/",
          "height": 86
        },
        "id": "2o03cUEH_taY",
        "outputId": "c79a2920-17ae-41bf-e773-ff944a4404ff",
        "cellView": "form"
      },
      "execution_count": null,
      "outputs": [
        {
          "output_type": "display_data",
          "data": {
            "text/plain": [
              "<IPython.core.display.HTML object>"
            ],
            "text/html": [
              "\n",
              "  <style>\n",
              "    pre {\n",
              "        white-space: pre-wrap;\n",
              "    }\n",
              "  </style>\n",
              "  "
            ]
          },
          "metadata": {}
        },
        {
          "output_type": "stream",
          "name": "stdout",
          "text": [
            "Jane is a House Captain for the Moor-Tarbet House Directorate of Students' Council. In her Co-curricular Activity (CCA), her role was to oversee the entire CCA and made sure no one is slacking. During that time, She planned multiple big events and worked with many groups. One notable event was planning Orientation. She messed up many times but came back stronger each time. From her experiences, She learnt how to manage expectations and plan excellent events.\n"
          ]
        }
      ]
    },
    {
      "cell_type": "code",
      "source": [
        "# Paragraph 5 - CCA_2\n",
        "\n",
        "# Might need to include personal traits (see testimonial document)\n",
        "\n",
        "has_second_cca = True #@param {type:\"boolean\"}\n",
        "\n",
        "paragraph_5 = \"\"\n",
        "\n",
        "if has_second_cca:\n",
        "  CCA_2 = 'Photography Society' #@param {type:\"string\"}\n",
        "  role = \"member\" #@param {type:\"string\"}\n",
        "\n",
        "  task_ = True #@param {type:\"boolean\"}\n",
        "  #@markdown \"As part of (CCA), ...\"\n",
        "  task = \"her role is to take photo of events.\" #@param {type:\"string\"}\n",
        "\n",
        "  experience_ = True #@param {type:\"boolean\"}\n",
        "  #@markdown \"During that time, ...\" (Can include setbacks/experiences)\n",
        "  experience = \"she struggled with capturing nice photos. But eventually with the help of her amazing teacher in charge, she succeeded.\" #@param {type:\"string\"}\n",
        "\n",
        "  lesson_ = True #@param {type:\"boolean\"}\n",
        "  #@markdown \"Through his experiences, ...\" (use learnt/honed/demonstrated)\n",
        "  lesson = \"she demonstrated extreme resilience and perseverance. \" #@param {type:\"string\"}\n",
        "\n",
        "  award_ = True #@param {type:\"boolean\"}\n",
        "  #@markdown \"As a result of his determination and resilience, ...\"\n",
        "  award = \"she won the best photographer of the year from National Geographic!\" #@param {type:\"string\"}\n",
        "\n",
        "\n",
        "  paragraph_5 = f\"Other than being a part of {CCA}, {name} was also part of {CCA_2}.\"\n",
        "\n",
        "  if task_ == True:\n",
        "    paragraph_5 += f\" As part of {CCA_2}, {task}\"\n",
        "  if experience_ == True:\n",
        "    paragraph_5 += f\" During that time, {experience}\"\n",
        "  if lesson_ == True:\n",
        "    paragraph_5 += f\" Through his experiences, {lesson}\"\n",
        "  if award_ == True:\n",
        "    paragraph_5 += f\" As a result of his perseverance and dedication, {award}\"\n",
        "\n",
        "paragraph_5 = check_gender(paragraph_5, gender)\n",
        "\n",
        "print(paragraph_5)"
      ],
      "metadata": {
        "colab": {
          "base_uri": "https://localhost:8080/",
          "height": 86
        },
        "id": "henFO1uq_tdf",
        "outputId": "5360fbfd-6a4d-445e-dc9d-1de717ccddba",
        "cellView": "form"
      },
      "execution_count": null,
      "outputs": [
        {
          "output_type": "display_data",
          "data": {
            "text/plain": [
              "<IPython.core.display.HTML object>"
            ],
            "text/html": [
              "\n",
              "  <style>\n",
              "    pre {\n",
              "        white-space: pre-wrap;\n",
              "    }\n",
              "  </style>\n",
              "  "
            ]
          },
          "metadata": {}
        },
        {
          "output_type": "stream",
          "name": "stdout",
          "text": [
            "Other than being a part of Students' Council, Jane was also part of Photography Society. As part of Photography Society, her role is to take photo of events. During that time, she struggled with capturing nice photos. But eventually with the help of her amazing teacher in charge, she succeeded. Through her experiences, she demonstrated extreme resilience and perseverance.  As a result of her perseverance and dedication, she won the best photographer of the year from National Geographic!\n"
          ]
        }
      ]
    },
    {
      "cell_type": "code",
      "source": [
        "# Paragraph 6 - VIA_1\n",
        "\n",
        "number_of_VIA = \"2\" #@param [0,1,2]\n",
        "\n",
        "via_hours = \"A lot\" #@param [\"A bit\", \"A lot\"]\n",
        "\n",
        "sample_passages = {\n",
        "    \"A bit\":[\"<name> actively gives back to the community.\", \"<name> also participates actively in community service.\", \"Apart from his studies and involvement in his CCA, <name> set aside time to serve the community.\", \"<name> also found time to give back to the community amidst his busy schedule.\"],\n",
        "    \"A lot\":[\"Strongly believing in having a heart for service and making a positive difference to others, <name> participated in many Values in Action (VIA) projects.\"]\n",
        "}\n",
        "\n",
        "# Student VIA information\n",
        "\n",
        "#@markdown \"John volunteered his services in the ...\"\n",
        "name_of_VIA_1 = 'Heartware Network' #@param {type:\"string\"}\n",
        "\n",
        "#@markdown \"In his volunteering stint, ...\" (Include experiences)\n",
        "experience_1 = \"her job was to teach primary school students tuition.\" #@param {type:\"string\"}\n",
        "\n",
        "#@markdown \"Through this experience, ...\" (use learnt/honed/demonstrated)\n",
        "lesson_1 = \"she learnt that she needs to be patient.\" #@param {type:\"string\"}\n",
        "\n",
        "#@markdown \"Additionally, John participated in the Values in Action (VIA) project where he worked with...\"\n",
        "name_of_VIA_2 = 'the National University of Singapore (NUS)' #@param {type:\"string\"}\n",
        "\n",
        "#@markdown \"As part of the programme, ...\" (Include experiences)\n",
        "experience_2 = \"she was tasked to look after the school compound in Yale-NUS\" #@param {type:\"string\"}\n",
        "\n",
        "#@markdown \"From his experiences, ...\" (use learnt/honed/demonstrated)\n",
        "lesson_2 = \"she learnt how difficult it is to ensure that everyone in Yale-NUS follows rules.\" #@param {type:\"string\"}\n",
        "\n",
        "# Generative text\n",
        "intro_1 = f\" He volunteered his services with {name_of_VIA_1}.\"\n",
        "intro_2 = f\" Additionally, <name> participated in the Values in Action (VIA) project where he worked with {name_of_VIA_2}.\"\n",
        "\n",
        "# Start paragraph 6\n",
        "len_sample_chosen = len(sample_passages[via_hours])-1\n",
        "\n",
        "paragraph_6_start = sample_passages[via_hours][random.randint(0,len_sample_chosen)]\n",
        "\n",
        "paragraph_6 = \"\" \n",
        "\n",
        "if number_of_VIA == \"0\":\n",
        "  paragraph_6 = \"\" # No VIA at all, so nothing on this\n",
        "elif number_of_VIA == \"1\":\n",
        "  experience_1_passage = f\" In his volunteering stint, {experience_1}\"\n",
        "  lesson_1_passage = f\" Through this experience, {lesson_1}\"\n",
        "  paragraph_6 = paragraph_6_start + intro_1 + experience_1_passage + lesson_1_passage\n",
        "else:\n",
        "  # First VIA experience\n",
        "  experience_1_passage = f\" In his volunteering stint, {experience_1}\"\n",
        "  lesson_1_passage = f\" Through this experience, {lesson_1}\"\n",
        "  paragraph_6 = paragraph_6_start + intro_1 + experience_1_passage + lesson_1_passage\n",
        "  \n",
        "  # Second VIA experience\n",
        "  experience_2_passage = f\" As part of the programme, {experience_2}\"\n",
        "  lesson_2_passage = f\" From his experiences, {lesson_2}\"\n",
        "  paragraph_6 = paragraph_6 + intro_2 + experience_2_passage + lesson_2_passage\n",
        "\n",
        "\n",
        "paragraph_6 = paragraph_6.replace('<name>',name)\n",
        "\n",
        "paragraph_6 = check_gender(paragraph_6, gender)\n",
        "\n",
        "print(paragraph_6)"
      ],
      "metadata": {
        "id": "FvjvDLb-_tgU",
        "colab": {
          "base_uri": "https://localhost:8080/",
          "height": 104
        },
        "outputId": "274b5c5a-8ee7-4749-acff-c770b41510ef",
        "cellView": "form"
      },
      "execution_count": null,
      "outputs": [
        {
          "output_type": "display_data",
          "data": {
            "text/plain": [
              "<IPython.core.display.HTML object>"
            ],
            "text/html": [
              "\n",
              "  <style>\n",
              "    pre {\n",
              "        white-space: pre-wrap;\n",
              "    }\n",
              "  </style>\n",
              "  "
            ]
          },
          "metadata": {}
        },
        {
          "output_type": "stream",
          "name": "stdout",
          "text": [
            "Strongly believing in having a heart for service and making a positive difference to others, Jane participated in many Values in Action (VIA) projects. She volunteered her services with Heartware Network. In her volunteering stint, her job was to teach primary school students tuition. Through this experience, she learnt that she needs to be patient. Additionally, Jane participated in the Values in Action (VIA) project where she worked with the National University of Singapore (NUS). As part of the programme, she was tasked to look after the school compound in Yale-NUS From her experiences, she learnt how difficult it is to ensure that everyone in Yale-NUS follows rules.\n"
          ]
        }
      ]
    },
    {
      "cell_type": "code",
      "source": [
        "# Paragraph 7 - Explored out\n",
        "\n",
        "explored_out = True #@param {type:\"boolean\"}\n",
        "\n",
        "paragraph_7 = \"\"\n",
        "\n",
        "if explored_out:\n",
        "\n",
        "  intro_array = [\n",
        "      \"Outside of school, <name> actively sought out opportunities to widen his horizons beyond his passion.\",\n",
        "      \"<name> is also open-minded and curious to try new things. Outside of school, \",\n",
        "  ]\n",
        "\n",
        "  #@markdown \"E.g. She had a job shadowing opportunity at the SengKang General Hospital.\"\n",
        "  what_was_it = 'Shee had a job shadowing opportunity at the SengKang General Hospital.' #@param {type:\"string\"}\n",
        "\n",
        "  #@markdown \"In that time, ...\" (Include experiences)\n",
        "  experience = \"her job was to help buy coffee for doctors.\" #@param {type:\"string\"}\n",
        "\n",
        "  #@markdown \"Through this experience, ...\" (use learnt/honed/demonstrated)\n",
        "  lesson = \"she demonstrated much humility. \" #@param {type:\"string\"}\n",
        "\n",
        "  what_was_it = \" \" + what_was_it\n",
        "  experience_passage = f\" In that time, {experience}\"\n",
        "  lesson_passage = f\" Through this experience, {lesson}\"\n",
        "\n",
        "  paragraph_7 = intro_array[random.randint(0,len(intro_array)-1)] + what_was_it + experience_passage + lesson_passage\n",
        "\n",
        "paragraph_7 = paragraph_7.replace('<name>',name)\n",
        "\n",
        "paragraph_7 = check_gender(paragraph_7, gender)\n",
        "\n",
        "print(paragraph_7)"
      ],
      "metadata": {
        "id": "tcHDC_sj_9kD",
        "colab": {
          "base_uri": "https://localhost:8080/",
          "height": 52
        },
        "outputId": "ed640449-3383-4778-cc89-c07395cdfd8f",
        "cellView": "form"
      },
      "execution_count": null,
      "outputs": [
        {
          "output_type": "display_data",
          "data": {
            "text/plain": [
              "<IPython.core.display.HTML object>"
            ],
            "text/html": [
              "\n",
              "  <style>\n",
              "    pre {\n",
              "        white-space: pre-wrap;\n",
              "    }\n",
              "  </style>\n",
              "  "
            ]
          },
          "metadata": {}
        },
        {
          "output_type": "stream",
          "name": "stdout",
          "text": [
            "Jane is also open-minded and curious to try new things. Outside of school,  Shee had a job shadowing opportunity at the SengKang General Hospital. In that time, her job was to help buy coffee for doctors. Through this experience, she demonstrated much humility. \n"
          ]
        }
      ]
    },
    {
      "cell_type": "code",
      "source": [
        "# Paragraph 8 - Concluding statements\n",
        "\n",
        "random_statements = [\n",
        "    \"In all, <name> is an individual of outstanding character and values. He is a passionate and fun-loving person with a positive outlook on life. Even in the face of setbacks, he is resilient and determined to overcome any obstacles in his way. With his high emotional quotient and fortitude, <name> is poised for success in his future endeavours and will be an asset to any organisation she chooses to join.\",\n",
        "    \"A promising student with an inquisitive mind, <name> has demonstrated resilience and adaptability in pursuing his endeavours and has the potential to achieve whatever he sets out to do in the future.\",\n",
        "    \"<name> has shown himself to be an amiable student man with a positive outlook on life. His peers see him as a supportive and trustworthy friend who often puts them before himself and shows genuine care and concern for them. He is a good-natured and confident student with much potential and will certainly achieve greater heights in his future endeavours.\",\n",
        "    \"<name> is an agreeable character but he also has a strong innate determination to see things through. He has a positive and open mindset that rubs off on others around him, while also having the intellectual humility to learn from others. He is steadfast, does not falter in adverse conditions, and can be counted on to handle challenging and stressful situations well. He is a promising young man who deserves every opportunity to achieve his potential. He will be an asset to his community.\",\n",
        "    \"<name> possesses an inquisitive mind with a genuine intellectual liveliness. He is an outspoken individual who is not afraid to voice his opinions. He displays strong passion and commitment in his areas of interests. He is willing to work hard to achieve his goals and will persevere until he succeeds. <name>’s positive traits will undoubtedly stand him in good stead in his future endeavours.\"\n",
        "]\n",
        "\n",
        "paragraph_8 = random_statements[random.randint(0,len(random_statements)-1)]\n",
        "\n",
        "paragraph_8 = paragraph_8.replace('<name>',name)\n",
        "\n",
        "paragraph_8 = check_gender(paragraph_8, gender)\n",
        "\n",
        "print(paragraph_8)"
      ],
      "metadata": {
        "id": "_5kseHag_9m-",
        "colab": {
          "base_uri": "https://localhost:8080/",
          "height": 69
        },
        "outputId": "1c999b52-ec19-43f1-c2f8-ce5870d21e0d"
      },
      "execution_count": null,
      "outputs": [
        {
          "output_type": "display_data",
          "data": {
            "text/plain": [
              "<IPython.core.display.HTML object>"
            ],
            "text/html": [
              "\n",
              "  <style>\n",
              "    pre {\n",
              "        white-space: pre-wrap;\n",
              "    }\n",
              "  </style>\n",
              "  "
            ]
          },
          "metadata": {}
        },
        {
          "output_type": "stream",
          "name": "stdout",
          "text": [
            "In all, Jane is an individual of outstanding character and values. She is a passionate and fun-loving person with a positive outlook on life. Even in the face of setbacks, she is resilient and determined to overcome any obstacles in her way. With her high emotional quotient and fortitude, Jane is poised for success in her future endeavours and will be an asset to any organisation she chooses to join.\n"
          ]
        }
      ]
    },
    {
      "cell_type": "markdown",
      "source": [
        "# Combine all"
      ],
      "metadata": {
        "id": "0pddR_5CEVvm"
      }
    },
    {
      "cell_type": "code",
      "source": [
        "# Combine all\n",
        "\n",
        "full_testimonial_array = []\n",
        "\n",
        "for paragraph in [paragraph_1, paragraph_2, paragraph_3, paragraph_4, paragraph_5, paragraph_6, paragraph_7, paragraph_8]:\n",
        "  if paragraph != \"\":\n",
        "    full_testimonial_array.append(paragraph)\n",
        "\n",
        "full_testimonial = '\\n\\n'.join(full_testimonial_array)\n",
        "\n",
        "print(full_testimonial)\n",
        "\n",
        "number_of_words = len(full_testimonial.split())\n",
        "\n",
        "print(\"\")\n",
        "print(\"\")\n",
        "print(f'(Number of words: {number_of_words})')"
      ],
      "metadata": {
        "colab": {
          "base_uri": "https://localhost:8080/",
          "height": 642
        },
        "id": "lDYpkOe4EUQA",
        "outputId": "6ac38692-aecf-4779-ddf5-0ec43765466f"
      },
      "execution_count": null,
      "outputs": [
        {
          "output_type": "display_data",
          "data": {
            "text/plain": [
              "<IPython.core.display.HTML object>"
            ],
            "text/html": [
              "\n",
              "  <style>\n",
              "    pre {\n",
              "        white-space: pre-wrap;\n",
              "    }\n",
              "  </style>\n",
              "  "
            ]
          },
          "metadata": {}
        },
        {
          "output_type": "stream",
          "name": "stdout",
          "text": [
            "Jane is a hardworking, self-directed and focused individual and has consistently demonstrated exemplary attitude and self-motivation. She is a respectful student who actively participates in class discussions. She has an amiable personality and is well-liked by her peers. She was quite exemplary in her behaviour and attitude and thus she was a recipient of the school's F.I.R.E. award - which is for students who are role models and display the school's core values of fortitude, integrity, respect and enterprise.\n",
            "\n",
            "Academically, Jane was a consistent and strong performer. Her ability to reflect on her learning and keep pace with the rigorous school curriculum were key to her academic success. As an independent learner, Jane took a systematic and proactive approach to monitoring her own progress. She developed strong cognitive and analytical skills over the two years and impressed her teachers with her dedication to her academic responsibilities.\n",
            "\n",
            "As a member of her Project Work group, she made sure that everyone put in the due effort. She was respectful of people's opinions.\n",
            "\n",
            "Jane is a House Captain for the Moor-Tarbet House Directorate of Students' Council. In her Co-curricular Activity (CCA), her role was to oversee the entire CCA and made sure no one is slacking. During that time, She planned multiple big events and worked with many groups. One notable event was planning Orientation. She messed up many times but came back stronger each time. From her experiences, She learnt how to manage expectations and plan excellent events.\n",
            "\n",
            "Other than being a part of Students' Council, Jane was also part of Photography Society. As part of Photography Society, her role is to take photo of events. During that time, she struggled with capturing nice photos. But eventually with the help of her amazing teacher in charge, she succeeded. Through her experiences, she demonstrated extreme resilience and perseverance.  As a result of her perseverance and dedication, she won the best photographer of the year from National Geographic!\n",
            "\n",
            "Strongly believing in having a heart for service and making a positive difference to others, Jane participated in many Values in Action (VIA) projects. She volunteered her services with Heartware Network. In her volunteering stint, her job was to teach primary school students tuition. Through this experience, she learnt that she needs to be patient. Additionally, Jane participated in the Values in Action (VIA) project where she worked with the National University of Singapore (NUS). As part of the programme, she was tasked to look after the school compound in Yale-NUS From her experiences, she learnt how difficult it is to ensure that everyone in Yale-NUS follows rules.\n",
            "\n",
            "Jane is also open-minded and curious to try new things. Outside of school,  Shee had a job shadowing opportunity at the SengKang General Hospital. In that time, her job was to help buy coffee for doctors. Through this experience, she demonstrated much humility. \n",
            "\n",
            "In all, Jane is an individual of outstanding character and values. She is a passionate and fun-loving person with a positive outlook on life. Even in the face of setbacks, she is resilient and determined to overcome any obstacles in her way. With her high emotional quotient and fortitude, Jane is poised for success in her future endeavours and will be an asset to any organisation she chooses to join.\n",
            "\n",
            "\n",
            "(Number of words: 545)\n"
          ]
        }
      ]
    },
    {
      "cell_type": "code",
      "source": [
        "# Cell to save as MS word\n",
        "\n",
        "from docx import Document\n",
        "from docx.shared import Pt\n",
        "from docx.enum.text import WD_ALIGN_PARAGRAPH\n",
        "\n",
        "# Create new document\n",
        "document = Document()\n",
        "\n",
        "# Add text\n",
        "paragraph = document.add_paragraph(full_text)\n",
        "\n",
        "# Change style\n",
        "style = document.styles['Normal']\n",
        "font = style.font\n",
        "font.name = 'Arial'\n",
        "font.size = Pt(11)\n",
        "\n",
        "# align paragraph\n",
        "paragraph.alignment = WD_ALIGN_PARAGRAPH.JUSTIFY\n",
        "\n",
        "document.save(f'./doc/{name}.docx')"
      ],
      "metadata": {
        "id": "VomkI-Hbef-y"
      },
      "execution_count": 29,
      "outputs": []
    },
    {
      "cell_type": "code",
      "source": [
        "import ipywidgets as widgets\n",
        "from IPython.display import display\n",
        "button = widgets.Button(description=\"Download All\")\n",
        "output = widgets.Output()\n",
        "\n",
        "button_all = widgets.Button(description=\"Download Current\")\n",
        "output_all = widgets.Output()\n",
        "\n",
        "def on_button_clicked(b):\n",
        "  # Display the message within the output widget.\n",
        "  with output:\n",
        "    # Save all documents as zip\n",
        "    !zip -r ./testimonials.zip ./doc\n",
        "\n",
        "    from google.colab import files\n",
        "    files.download(\"./testimonials.zip\")\n",
        "\n",
        "def on_button_all_clicked(b):\n",
        "  # Display the message within the output widget.\n",
        "  with output_all:\n",
        "    # Save current document\n",
        "    from google.colab import files\n",
        "    files.download(f\"./doc/{name}.docx\")\n",
        "\n",
        "button.on_click(on_button_clicked)\n",
        "display(button, output)\n",
        "\n",
        "button_all.on_click(on_button_all_clicked)\n",
        "display(button_all, output_all)"
      ],
      "metadata": {
        "id": "v9V9LvRgojb7"
      },
      "execution_count": null,
      "outputs": []
    },
    {
      "cell_type": "markdown",
      "source": [
        "# To-do\n",
        "1. Do gender check (v)\n",
        "2. Paraphrase (on hold)\n",
        "3. Combine all (v)\n",
        "4. Save to downloadable MS Word (v)\n",
        "5. Use Grammarly on MS Word\n",
        "6. Add more functionalities\n",
        "- A few more phrases from each category\n",
        "- Class rep/ subject rep\n",
        "- OGL"
      ],
      "metadata": {
        "id": "fgUQPGAz_WQK"
      }
    },
    {
      "cell_type": "code",
      "source": [
        "# Utilities \n",
        "# Forms: https://colab.research.google.com/notebooks/forms.ipynb#scrollTo=3jKM6GfzlgpS"
      ],
      "metadata": {
        "id": "qFip9x0dFrcp"
      },
      "execution_count": null,
      "outputs": []
    }
  ]
}