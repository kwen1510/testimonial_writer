{
  "nbformat": 4,
  "nbformat_minor": 0,
  "metadata": {
    "colab": {
      "provenance": [],
      "collapsed_sections": [],
      "include_colab_link": true
    },
    "kernelspec": {
      "name": "python3",
      "display_name": "Python 3"
    },
    "language_info": {
      "name": "python"
    },
    "accelerator": "GPU",
    "widgets": {
      "application/vnd.jupyter.widget-state+json": {
        "a9232d85a59c47a0942d47d5842287bf": {
          "model_module": "@jupyter-widgets/controls",
          "model_name": "ButtonModel",
          "model_module_version": "1.5.0",
          "state": {
            "_dom_classes": [],
            "_model_module": "@jupyter-widgets/controls",
            "_model_module_version": "1.5.0",
            "_model_name": "ButtonModel",
            "_view_count": null,
            "_view_module": "@jupyter-widgets/controls",
            "_view_module_version": "1.5.0",
            "_view_name": "ButtonView",
            "button_style": "",
            "description": "Download All",
            "disabled": false,
            "icon": "",
            "layout": "IPY_MODEL_0a22e97c32294ddf9ece58c477498312",
            "style": "IPY_MODEL_d9655100ee8a4a84aebdae993836600d",
            "tooltip": ""
          }
        },
        "0a22e97c32294ddf9ece58c477498312": {
          "model_module": "@jupyter-widgets/base",
          "model_name": "LayoutModel",
          "model_module_version": "1.2.0",
          "state": {
            "_model_module": "@jupyter-widgets/base",
            "_model_module_version": "1.2.0",
            "_model_name": "LayoutModel",
            "_view_count": null,
            "_view_module": "@jupyter-widgets/base",
            "_view_module_version": "1.2.0",
            "_view_name": "LayoutView",
            "align_content": null,
            "align_items": null,
            "align_self": null,
            "border": null,
            "bottom": null,
            "display": null,
            "flex": null,
            "flex_flow": null,
            "grid_area": null,
            "grid_auto_columns": null,
            "grid_auto_flow": null,
            "grid_auto_rows": null,
            "grid_column": null,
            "grid_gap": null,
            "grid_row": null,
            "grid_template_areas": null,
            "grid_template_columns": null,
            "grid_template_rows": null,
            "height": null,
            "justify_content": null,
            "justify_items": null,
            "left": null,
            "margin": null,
            "max_height": null,
            "max_width": null,
            "min_height": null,
            "min_width": null,
            "object_fit": null,
            "object_position": null,
            "order": null,
            "overflow": null,
            "overflow_x": null,
            "overflow_y": null,
            "padding": null,
            "right": null,
            "top": null,
            "visibility": null,
            "width": null
          }
        },
        "d9655100ee8a4a84aebdae993836600d": {
          "model_module": "@jupyter-widgets/controls",
          "model_name": "ButtonStyleModel",
          "model_module_version": "1.5.0",
          "state": {
            "_model_module": "@jupyter-widgets/controls",
            "_model_module_version": "1.5.0",
            "_model_name": "ButtonStyleModel",
            "_view_count": null,
            "_view_module": "@jupyter-widgets/base",
            "_view_module_version": "1.2.0",
            "_view_name": "StyleView",
            "button_color": null,
            "font_weight": ""
          }
        },
        "bc8a6ef87bc6497584283fbe4b108722": {
          "model_module": "@jupyter-widgets/output",
          "model_name": "OutputModel",
          "model_module_version": "1.0.0",
          "state": {
            "_dom_classes": [],
            "_model_module": "@jupyter-widgets/output",
            "_model_module_version": "1.0.0",
            "_model_name": "OutputModel",
            "_view_count": null,
            "_view_module": "@jupyter-widgets/output",
            "_view_module_version": "1.0.0",
            "_view_name": "OutputView",
            "layout": "IPY_MODEL_a403a22563a74b52bf9e7f946ab6a421",
            "msg_id": "",
            "outputs": []
          }
        },
        "a403a22563a74b52bf9e7f946ab6a421": {
          "model_module": "@jupyter-widgets/base",
          "model_name": "LayoutModel",
          "model_module_version": "1.2.0",
          "state": {
            "_model_module": "@jupyter-widgets/base",
            "_model_module_version": "1.2.0",
            "_model_name": "LayoutModel",
            "_view_count": null,
            "_view_module": "@jupyter-widgets/base",
            "_view_module_version": "1.2.0",
            "_view_name": "LayoutView",
            "align_content": null,
            "align_items": null,
            "align_self": null,
            "border": null,
            "bottom": null,
            "display": null,
            "flex": null,
            "flex_flow": null,
            "grid_area": null,
            "grid_auto_columns": null,
            "grid_auto_flow": null,
            "grid_auto_rows": null,
            "grid_column": null,
            "grid_gap": null,
            "grid_row": null,
            "grid_template_areas": null,
            "grid_template_columns": null,
            "grid_template_rows": null,
            "height": null,
            "justify_content": null,
            "justify_items": null,
            "left": null,
            "margin": null,
            "max_height": null,
            "max_width": null,
            "min_height": null,
            "min_width": null,
            "object_fit": null,
            "object_position": null,
            "order": null,
            "overflow": null,
            "overflow_x": null,
            "overflow_y": null,
            "padding": null,
            "right": null,
            "top": null,
            "visibility": null,
            "width": null
          }
        },
        "b9c6d82dd981447c8e65474e9f409c45": {
          "model_module": "@jupyter-widgets/controls",
          "model_name": "ButtonModel",
          "model_module_version": "1.5.0",
          "state": {
            "_dom_classes": [],
            "_model_module": "@jupyter-widgets/controls",
            "_model_module_version": "1.5.0",
            "_model_name": "ButtonModel",
            "_view_count": null,
            "_view_module": "@jupyter-widgets/controls",
            "_view_module_version": "1.5.0",
            "_view_name": "ButtonView",
            "button_style": "",
            "description": "Download Current",
            "disabled": false,
            "icon": "",
            "layout": "IPY_MODEL_bd352ab8256041d19283d2ce2773ddff",
            "style": "IPY_MODEL_11bba6050747420696a9576aa4422ca8",
            "tooltip": ""
          }
        },
        "bd352ab8256041d19283d2ce2773ddff": {
          "model_module": "@jupyter-widgets/base",
          "model_name": "LayoutModel",
          "model_module_version": "1.2.0",
          "state": {
            "_model_module": "@jupyter-widgets/base",
            "_model_module_version": "1.2.0",
            "_model_name": "LayoutModel",
            "_view_count": null,
            "_view_module": "@jupyter-widgets/base",
            "_view_module_version": "1.2.0",
            "_view_name": "LayoutView",
            "align_content": null,
            "align_items": null,
            "align_self": null,
            "border": null,
            "bottom": null,
            "display": null,
            "flex": null,
            "flex_flow": null,
            "grid_area": null,
            "grid_auto_columns": null,
            "grid_auto_flow": null,
            "grid_auto_rows": null,
            "grid_column": null,
            "grid_gap": null,
            "grid_row": null,
            "grid_template_areas": null,
            "grid_template_columns": null,
            "grid_template_rows": null,
            "height": null,
            "justify_content": null,
            "justify_items": null,
            "left": null,
            "margin": null,
            "max_height": null,
            "max_width": null,
            "min_height": null,
            "min_width": null,
            "object_fit": null,
            "object_position": null,
            "order": null,
            "overflow": null,
            "overflow_x": null,
            "overflow_y": null,
            "padding": null,
            "right": null,
            "top": null,
            "visibility": null,
            "width": null
          }
        },
        "11bba6050747420696a9576aa4422ca8": {
          "model_module": "@jupyter-widgets/controls",
          "model_name": "ButtonStyleModel",
          "model_module_version": "1.5.0",
          "state": {
            "_model_module": "@jupyter-widgets/controls",
            "_model_module_version": "1.5.0",
            "_model_name": "ButtonStyleModel",
            "_view_count": null,
            "_view_module": "@jupyter-widgets/base",
            "_view_module_version": "1.2.0",
            "_view_name": "StyleView",
            "button_color": null,
            "font_weight": ""
          }
        },
        "38f1a75b72b64729863f9f885718ea8a": {
          "model_module": "@jupyter-widgets/output",
          "model_name": "OutputModel",
          "model_module_version": "1.0.0",
          "state": {
            "_dom_classes": [],
            "_model_module": "@jupyter-widgets/output",
            "_model_module_version": "1.0.0",
            "_model_name": "OutputModel",
            "_view_count": null,
            "_view_module": "@jupyter-widgets/output",
            "_view_module_version": "1.0.0",
            "_view_name": "OutputView",
            "layout": "IPY_MODEL_267d0dc58f1f4b83bfa59785c48bfb9f",
            "msg_id": "",
            "outputs": [
              {
                "output_type": "display_data",
                "data": {
                  "text/plain": "<IPython.core.display.Javascript object>",
                  "application/javascript": "\n    async function download(id, filename, size) {\n      if (!google.colab.kernel.accessAllowed) {\n        return;\n      }\n      const div = document.createElement('div');\n      const label = document.createElement('label');\n      label.textContent = `Downloading \"${filename}\": `;\n      div.appendChild(label);\n      const progress = document.createElement('progress');\n      progress.max = size;\n      div.appendChild(progress);\n      document.body.appendChild(div);\n\n      const buffers = [];\n      let downloaded = 0;\n\n      const channel = await google.colab.kernel.comms.open(id);\n      // Send a message to notify the kernel that we're ready.\n      channel.send({})\n\n      for await (const message of channel.messages) {\n        // Send a message to notify the kernel that we're ready.\n        channel.send({})\n        if (message.buffers) {\n          for (const buffer of message.buffers) {\n            buffers.push(buffer);\n            downloaded += buffer.byteLength;\n            progress.value = downloaded;\n          }\n        }\n      }\n      const blob = new Blob(buffers, {type: 'application/binary'});\n      const a = document.createElement('a');\n      a.href = window.URL.createObjectURL(blob);\n      a.download = filename;\n      div.appendChild(a);\n      a.click();\n      div.remove();\n    }\n  "
                },
                "metadata": {}
              },
              {
                "output_type": "display_data",
                "data": {
                  "text/plain": "<IPython.core.display.Javascript object>",
                  "application/javascript": "download(\"download_4d23fa7c-23ef-4d84-90ce-e9de8e3b32de\", \"Jane.docx\", 38275)"
                },
                "metadata": {}
              }
            ]
          }
        },
        "267d0dc58f1f4b83bfa59785c48bfb9f": {
          "model_module": "@jupyter-widgets/base",
          "model_name": "LayoutModel",
          "model_module_version": "1.2.0",
          "state": {
            "_model_module": "@jupyter-widgets/base",
            "_model_module_version": "1.2.0",
            "_model_name": "LayoutModel",
            "_view_count": null,
            "_view_module": "@jupyter-widgets/base",
            "_view_module_version": "1.2.0",
            "_view_name": "LayoutView",
            "align_content": null,
            "align_items": null,
            "align_self": null,
            "border": null,
            "bottom": null,
            "display": null,
            "flex": null,
            "flex_flow": null,
            "grid_area": null,
            "grid_auto_columns": null,
            "grid_auto_flow": null,
            "grid_auto_rows": null,
            "grid_column": null,
            "grid_gap": null,
            "grid_row": null,
            "grid_template_areas": null,
            "grid_template_columns": null,
            "grid_template_rows": null,
            "height": null,
            "justify_content": null,
            "justify_items": null,
            "left": null,
            "margin": null,
            "max_height": null,
            "max_width": null,
            "min_height": null,
            "min_width": null,
            "object_fit": null,
            "object_position": null,
            "order": null,
            "overflow": null,
            "overflow_x": null,
            "overflow_y": null,
            "padding": null,
            "right": null,
            "top": null,
            "visibility": null,
            "width": null
          }
        }
      }
    }
  },
  "cells": [
    {
      "cell_type": "markdown",
      "metadata": {
        "id": "view-in-github",
        "colab_type": "text"
      },
      "source": [
        "<a href=\"https://colab.research.google.com/github/kwen1510/testimonial_writer/blob/main/Testimonial_Writer_(for_sharing).ipynb\" target=\"_parent\"><img src=\"https://colab.research.google.com/assets/colab-badge.svg\" alt=\"Open In Colab\"/></a>"
      ]
    },
    {
      "cell_type": "markdown",
      "source": [
        "## Testimonial Writer"
      ],
      "metadata": {
        "id": "gELC67tYqLkl"
      }
    },
    {
      "cell_type": "code",
      "execution_count": 1,
      "metadata": {
        "id": "v3WuAEaJFejx",
        "colab": {
          "base_uri": "https://localhost:8080/"
        },
        "outputId": "15e53844-dfe5-47da-aa64-dc6b928f849b"
      },
      "outputs": [
        {
          "output_type": "stream",
          "name": "stdout",
          "text": [
            "Looking in indexes: https://pypi.org/simple, https://us-python.pkg.dev/colab-wheels/public/simple/\n",
            "Collecting happytransformer\n",
            "  Downloading happytransformer-2.4.1-py3-none-any.whl (45 kB)\n",
            "\u001b[K     |████████████████████████████████| 45 kB 2.6 MB/s \n",
            "\u001b[?25hCollecting transformers>=4.4.0\n",
            "  Downloading transformers-4.23.1-py3-none-any.whl (5.3 MB)\n",
            "\u001b[K     |████████████████████████████████| 5.3 MB 25.9 MB/s \n",
            "\u001b[?25hRequirement already satisfied: torch>=1.0 in /usr/local/lib/python3.7/dist-packages (from happytransformer) (1.12.1+cu113)\n",
            "Collecting datasets>=1.6.0\n",
            "  Downloading datasets-2.6.1-py3-none-any.whl (441 kB)\n",
            "\u001b[K     |████████████████████████████████| 441 kB 70.1 MB/s \n",
            "\u001b[?25hRequirement already satisfied: tqdm>=4.43 in /usr/local/lib/python3.7/dist-packages (from happytransformer) (4.64.1)\n",
            "Requirement already satisfied: protobuf in /usr/local/lib/python3.7/dist-packages (from happytransformer) (3.17.3)\n",
            "Collecting sentencepiece\n",
            "  Downloading sentencepiece-0.1.97-cp37-cp37m-manylinux_2_17_x86_64.manylinux2014_x86_64.whl (1.3 MB)\n",
            "\u001b[K     |████████████████████████████████| 1.3 MB 59.2 MB/s \n",
            "\u001b[?25hRequirement already satisfied: dill<0.3.6 in /usr/local/lib/python3.7/dist-packages (from datasets>=1.6.0->happytransformer) (0.3.5.1)\n",
            "Requirement already satisfied: requests>=2.19.0 in /usr/local/lib/python3.7/dist-packages (from datasets>=1.6.0->happytransformer) (2.23.0)\n",
            "Requirement already satisfied: pandas in /usr/local/lib/python3.7/dist-packages (from datasets>=1.6.0->happytransformer) (1.3.5)\n",
            "Collecting huggingface-hub<1.0.0,>=0.2.0\n",
            "  Downloading huggingface_hub-0.10.1-py3-none-any.whl (163 kB)\n",
            "\u001b[K     |████████████████████████████████| 163 kB 72.5 MB/s \n",
            "\u001b[?25hRequirement already satisfied: packaging in /usr/local/lib/python3.7/dist-packages (from datasets>=1.6.0->happytransformer) (21.3)\n",
            "Collecting multiprocess\n",
            "  Downloading multiprocess-0.70.14-py37-none-any.whl (115 kB)\n",
            "\u001b[K     |████████████████████████████████| 115 kB 72.7 MB/s \n",
            "\u001b[?25hRequirement already satisfied: fsspec[http]>=2021.11.1 in /usr/local/lib/python3.7/dist-packages (from datasets>=1.6.0->happytransformer) (2022.8.2)\n",
            "Requirement already satisfied: importlib-metadata in /usr/local/lib/python3.7/dist-packages (from datasets>=1.6.0->happytransformer) (4.13.0)\n",
            "Requirement already satisfied: numpy>=1.17 in /usr/local/lib/python3.7/dist-packages (from datasets>=1.6.0->happytransformer) (1.21.6)\n",
            "Collecting responses<0.19\n",
            "  Downloading responses-0.18.0-py3-none-any.whl (38 kB)\n",
            "Collecting xxhash\n",
            "  Downloading xxhash-3.1.0-cp37-cp37m-manylinux_2_17_x86_64.manylinux2014_x86_64.whl (212 kB)\n",
            "\u001b[K     |████████████████████████████████| 212 kB 74.1 MB/s \n",
            "\u001b[?25hRequirement already satisfied: pyyaml>=5.1 in /usr/local/lib/python3.7/dist-packages (from datasets>=1.6.0->happytransformer) (6.0)\n",
            "Requirement already satisfied: aiohttp in /usr/local/lib/python3.7/dist-packages (from datasets>=1.6.0->happytransformer) (3.8.3)\n",
            "Requirement already satisfied: pyarrow>=6.0.0 in /usr/local/lib/python3.7/dist-packages (from datasets>=1.6.0->happytransformer) (6.0.1)\n",
            "Requirement already satisfied: frozenlist>=1.1.1 in /usr/local/lib/python3.7/dist-packages (from aiohttp->datasets>=1.6.0->happytransformer) (1.3.1)\n",
            "Requirement already satisfied: charset-normalizer<3.0,>=2.0 in /usr/local/lib/python3.7/dist-packages (from aiohttp->datasets>=1.6.0->happytransformer) (2.1.1)\n",
            "Requirement already satisfied: aiosignal>=1.1.2 in /usr/local/lib/python3.7/dist-packages (from aiohttp->datasets>=1.6.0->happytransformer) (1.2.0)\n",
            "Requirement already satisfied: multidict<7.0,>=4.5 in /usr/local/lib/python3.7/dist-packages (from aiohttp->datasets>=1.6.0->happytransformer) (6.0.2)\n",
            "Requirement already satisfied: yarl<2.0,>=1.0 in /usr/local/lib/python3.7/dist-packages (from aiohttp->datasets>=1.6.0->happytransformer) (1.8.1)\n",
            "Requirement already satisfied: typing-extensions>=3.7.4 in /usr/local/lib/python3.7/dist-packages (from aiohttp->datasets>=1.6.0->happytransformer) (4.1.1)\n",
            "Requirement already satisfied: async-timeout<5.0,>=4.0.0a3 in /usr/local/lib/python3.7/dist-packages (from aiohttp->datasets>=1.6.0->happytransformer) (4.0.2)\n",
            "Requirement already satisfied: asynctest==0.13.0 in /usr/local/lib/python3.7/dist-packages (from aiohttp->datasets>=1.6.0->happytransformer) (0.13.0)\n",
            "Requirement already satisfied: attrs>=17.3.0 in /usr/local/lib/python3.7/dist-packages (from aiohttp->datasets>=1.6.0->happytransformer) (22.1.0)\n",
            "Requirement already satisfied: filelock in /usr/local/lib/python3.7/dist-packages (from huggingface-hub<1.0.0,>=0.2.0->datasets>=1.6.0->happytransformer) (3.8.0)\n",
            "Requirement already satisfied: pyparsing!=3.0.5,>=2.0.2 in /usr/local/lib/python3.7/dist-packages (from packaging->datasets>=1.6.0->happytransformer) (3.0.9)\n",
            "Requirement already satisfied: chardet<4,>=3.0.2 in /usr/local/lib/python3.7/dist-packages (from requests>=2.19.0->datasets>=1.6.0->happytransformer) (3.0.4)\n",
            "Requirement already satisfied: urllib3!=1.25.0,!=1.25.1,<1.26,>=1.21.1 in /usr/local/lib/python3.7/dist-packages (from requests>=2.19.0->datasets>=1.6.0->happytransformer) (1.24.3)\n",
            "Requirement already satisfied: certifi>=2017.4.17 in /usr/local/lib/python3.7/dist-packages (from requests>=2.19.0->datasets>=1.6.0->happytransformer) (2022.9.24)\n",
            "Requirement already satisfied: idna<3,>=2.5 in /usr/local/lib/python3.7/dist-packages (from requests>=2.19.0->datasets>=1.6.0->happytransformer) (2.10)\n",
            "Collecting urllib3!=1.25.0,!=1.25.1,<1.26,>=1.21.1\n",
            "  Downloading urllib3-1.25.11-py2.py3-none-any.whl (127 kB)\n",
            "\u001b[K     |████████████████████████████████| 127 kB 74.8 MB/s \n",
            "\u001b[?25hCollecting tokenizers!=0.11.3,<0.14,>=0.11.1\n",
            "  Downloading tokenizers-0.13.1-cp37-cp37m-manylinux_2_17_x86_64.manylinux2014_x86_64.whl (7.6 MB)\n",
            "\u001b[K     |████████████████████████████████| 7.6 MB 64.4 MB/s \n",
            "\u001b[?25hRequirement already satisfied: regex!=2019.12.17 in /usr/local/lib/python3.7/dist-packages (from transformers>=4.4.0->happytransformer) (2022.6.2)\n",
            "Requirement already satisfied: zipp>=0.5 in /usr/local/lib/python3.7/dist-packages (from importlib-metadata->datasets>=1.6.0->happytransformer) (3.9.0)\n",
            "Collecting multiprocess\n",
            "  Downloading multiprocess-0.70.13-py37-none-any.whl (115 kB)\n",
            "\u001b[K     |████████████████████████████████| 115 kB 61.3 MB/s \n",
            "\u001b[?25hRequirement already satisfied: pytz>=2017.3 in /usr/local/lib/python3.7/dist-packages (from pandas->datasets>=1.6.0->happytransformer) (2022.4)\n",
            "Requirement already satisfied: python-dateutil>=2.7.3 in /usr/local/lib/python3.7/dist-packages (from pandas->datasets>=1.6.0->happytransformer) (2.8.2)\n",
            "Requirement already satisfied: six>=1.5 in /usr/local/lib/python3.7/dist-packages (from python-dateutil>=2.7.3->pandas->datasets>=1.6.0->happytransformer) (1.15.0)\n",
            "Installing collected packages: urllib3, xxhash, tokenizers, responses, multiprocess, huggingface-hub, transformers, sentencepiece, datasets, happytransformer\n",
            "  Attempting uninstall: urllib3\n",
            "    Found existing installation: urllib3 1.24.3\n",
            "    Uninstalling urllib3-1.24.3:\n",
            "      Successfully uninstalled urllib3-1.24.3\n",
            "Successfully installed datasets-2.6.1 happytransformer-2.4.1 huggingface-hub-0.10.1 multiprocess-0.70.13 responses-0.18.0 sentencepiece-0.1.97 tokenizers-0.13.1 transformers-4.23.1 urllib3-1.25.11 xxhash-3.1.0\n",
            "Looking in indexes: https://pypi.org/simple, https://us-python.pkg.dev/colab-wheels/public/simple/\n",
            "Requirement already satisfied: transformers in /usr/local/lib/python3.7/dist-packages (4.23.1)\n",
            "Requirement already satisfied: sentencepiece in /usr/local/lib/python3.7/dist-packages (0.1.97)\n",
            "Collecting sacremoses\n",
            "  Downloading sacremoses-0.0.53.tar.gz (880 kB)\n",
            "\u001b[K     |████████████████████████████████| 880 kB 15.2 MB/s \n",
            "\u001b[?25hRequirement already satisfied: packaging>=20.0 in /usr/local/lib/python3.7/dist-packages (from transformers) (21.3)\n",
            "Requirement already satisfied: regex!=2019.12.17 in /usr/local/lib/python3.7/dist-packages (from transformers) (2022.6.2)\n",
            "Requirement already satisfied: pyyaml>=5.1 in /usr/local/lib/python3.7/dist-packages (from transformers) (6.0)\n",
            "Requirement already satisfied: filelock in /usr/local/lib/python3.7/dist-packages (from transformers) (3.8.0)\n",
            "Requirement already satisfied: tokenizers!=0.11.3,<0.14,>=0.11.1 in /usr/local/lib/python3.7/dist-packages (from transformers) (0.13.1)\n",
            "Requirement already satisfied: requests in /usr/local/lib/python3.7/dist-packages (from transformers) (2.23.0)\n",
            "Requirement already satisfied: numpy>=1.17 in /usr/local/lib/python3.7/dist-packages (from transformers) (1.21.6)\n",
            "Requirement already satisfied: huggingface-hub<1.0,>=0.10.0 in /usr/local/lib/python3.7/dist-packages (from transformers) (0.10.1)\n",
            "Requirement already satisfied: tqdm>=4.27 in /usr/local/lib/python3.7/dist-packages (from transformers) (4.64.1)\n",
            "Requirement already satisfied: importlib-metadata in /usr/local/lib/python3.7/dist-packages (from transformers) (4.13.0)\n",
            "Requirement already satisfied: typing-extensions>=3.7.4.3 in /usr/local/lib/python3.7/dist-packages (from huggingface-hub<1.0,>=0.10.0->transformers) (4.1.1)\n",
            "Requirement already satisfied: pyparsing!=3.0.5,>=2.0.2 in /usr/local/lib/python3.7/dist-packages (from packaging>=20.0->transformers) (3.0.9)\n",
            "Requirement already satisfied: six in /usr/local/lib/python3.7/dist-packages (from sacremoses) (1.15.0)\n",
            "Requirement already satisfied: click in /usr/local/lib/python3.7/dist-packages (from sacremoses) (7.1.2)\n",
            "Requirement already satisfied: joblib in /usr/local/lib/python3.7/dist-packages (from sacremoses) (1.2.0)\n",
            "Requirement already satisfied: zipp>=0.5 in /usr/local/lib/python3.7/dist-packages (from importlib-metadata->transformers) (3.9.0)\n",
            "Requirement already satisfied: chardet<4,>=3.0.2 in /usr/local/lib/python3.7/dist-packages (from requests->transformers) (3.0.4)\n",
            "Requirement already satisfied: certifi>=2017.4.17 in /usr/local/lib/python3.7/dist-packages (from requests->transformers) (2022.9.24)\n",
            "Requirement already satisfied: idna<3,>=2.5 in /usr/local/lib/python3.7/dist-packages (from requests->transformers) (2.10)\n",
            "Requirement already satisfied: urllib3!=1.25.0,!=1.25.1,<1.26,>=1.21.1 in /usr/local/lib/python3.7/dist-packages (from requests->transformers) (1.25.11)\n",
            "Building wheels for collected packages: sacremoses\n",
            "  Building wheel for sacremoses (setup.py) ... \u001b[?25l\u001b[?25hdone\n",
            "  Created wheel for sacremoses: filename=sacremoses-0.0.53-py3-none-any.whl size=895260 sha256=aaba12ad742518178b06e2de3a4c22d29c189d136fc8e97d5bc6bddac2bbbdfc\n",
            "  Stored in directory: /root/.cache/pip/wheels/87/39/dd/a83eeef36d0bf98e7a4d1933a4ad2d660295a40613079bafc9\n",
            "Successfully built sacremoses\n",
            "Installing collected packages: sacremoses\n",
            "Successfully installed sacremoses-0.0.53\n",
            "Looking in indexes: https://pypi.org/simple, https://us-python.pkg.dev/colab-wheels/public/simple/\n",
            "Collecting python-docx\n",
            "  Downloading python-docx-0.8.11.tar.gz (5.6 MB)\n",
            "\u001b[K     |████████████████████████████████| 5.6 MB 11.6 MB/s \n",
            "\u001b[?25hRequirement already satisfied: lxml>=2.3.2 in /usr/local/lib/python3.7/dist-packages (from python-docx) (4.9.1)\n",
            "Building wheels for collected packages: python-docx\n",
            "  Building wheel for python-docx (setup.py) ... \u001b[?25l\u001b[?25hdone\n",
            "  Created wheel for python-docx: filename=python_docx-0.8.11-py3-none-any.whl size=184507 sha256=21677ca21d8771fa88b8b08c969f6e6c290e810b2ecf76c285c741dde597a493\n",
            "  Stored in directory: /root/.cache/pip/wheels/f6/6f/b9/d798122a8b55b74ad30b5f52b01482169b445fbb84a11797a6\n",
            "Successfully built python-docx\n",
            "Installing collected packages: python-docx\n",
            "Successfully installed python-docx-0.8.11\n"
          ]
        }
      ],
      "source": [
        "# Install relevant libraries\n",
        "!pip install happytransformer\n",
        "!pip install transformers sentencepiece sacremoses\n",
        "!pip install python-docx"
      ]
    },
    {
      "cell_type": "code",
      "source": [
        "# Mount Google Drive\n",
        "\n",
        "from google.colab import drive\n",
        "drive.mount('/content/gdrive/', force_remount=True)\n",
        "\n",
        "#python program to check if a directory exists\n",
        "import os\n",
        "path = \"Testimonial_Writer\"\n",
        "# Check whether the specified path exists or not\n",
        "isExist = os.path.exists(path)\n",
        "\n",
        "# If folder does not exist, create folder\n",
        "if not isExist:\n",
        "  !mkdir Testimonial_Writer\n",
        "\n",
        "%cd gdrive/MyDrive/Testimonial_Writer\n",
        "!ls"
      ],
      "metadata": {
        "id": "03_GduNcFrYM",
        "colab": {
          "base_uri": "https://localhost:8080/"
        },
        "outputId": "0e80792a-b9b5-4efa-da07-52b2807985c8"
      },
      "execution_count": 2,
      "outputs": [
        {
          "output_type": "stream",
          "name": "stdout",
          "text": [
            "Mounted at /content/gdrive/\n",
            "/content/gdrive/MyDrive/Testimonial_Writer\n",
            "model  testimonial-writer-model.zip  train.txt\n"
          ]
        }
      ]
    },
    {
      "cell_type": "code",
      "source": [
        "# Download model from Kuang Wen's Google Drive\n",
        "\n",
        "# Source: \n",
        "!pip install gdown\n",
        "\n",
        "!gdown https://drive.google.com/uc?id=1wsVx8LXof901ajAL96ppg3nRbfVpNKd1\n"
      ],
      "metadata": {
        "id": "FxMyLFzuW9Pp",
        "colab": {
          "base_uri": "https://localhost:8080/"
        },
        "outputId": "e581cfa0-df1a-47b3-ff27-57f5f47c78b0"
      },
      "execution_count": 3,
      "outputs": [
        {
          "output_type": "stream",
          "name": "stdout",
          "text": [
            "Looking in indexes: https://pypi.org/simple, https://us-python.pkg.dev/colab-wheels/public/simple/\n",
            "Requirement already satisfied: gdown in /usr/local/lib/python3.7/dist-packages (4.4.0)\n",
            "Requirement already satisfied: requests[socks] in /usr/local/lib/python3.7/dist-packages (from gdown) (2.23.0)\n",
            "Requirement already satisfied: six in /usr/local/lib/python3.7/dist-packages (from gdown) (1.15.0)\n",
            "Requirement already satisfied: tqdm in /usr/local/lib/python3.7/dist-packages (from gdown) (4.64.1)\n",
            "Requirement already satisfied: filelock in /usr/local/lib/python3.7/dist-packages (from gdown) (3.8.0)\n",
            "Requirement already satisfied: beautifulsoup4 in /usr/local/lib/python3.7/dist-packages (from gdown) (4.6.3)\n",
            "Requirement already satisfied: urllib3!=1.25.0,!=1.25.1,<1.26,>=1.21.1 in /usr/local/lib/python3.7/dist-packages (from requests[socks]->gdown) (1.25.11)\n",
            "Requirement already satisfied: idna<3,>=2.5 in /usr/local/lib/python3.7/dist-packages (from requests[socks]->gdown) (2.10)\n",
            "Requirement already satisfied: chardet<4,>=3.0.2 in /usr/local/lib/python3.7/dist-packages (from requests[socks]->gdown) (3.0.4)\n",
            "Requirement already satisfied: certifi>=2017.4.17 in /usr/local/lib/python3.7/dist-packages (from requests[socks]->gdown) (2022.9.24)\n",
            "Requirement already satisfied: PySocks!=1.5.7,>=1.5.6 in /usr/local/lib/python3.7/dist-packages (from requests[socks]->gdown) (1.7.1)\n",
            "Downloading...\n",
            "From: https://drive.google.com/uc?id=1wsVx8LXof901ajAL96ppg3nRbfVpNKd1\n",
            "To: /content/gdrive/MyDrive/Testimonial_Writer/testimonial-writer-model.zip\n",
            "100% 467M/467M [00:05<00:00, 87.8MB/s]\n"
          ]
        }
      ]
    },
    {
      "cell_type": "code",
      "source": [
        "# Unzip file\n",
        "\n",
        "# importing the zipfile module\n",
        "from zipfile import ZipFile\n",
        "\n",
        "# loading the temp.zip and creating a zip object\n",
        "with ZipFile(\"testimonial-writer-model.zip\", 'r') as zObject:\n",
        "  \n",
        "    # Extracting all the members of the zip \n",
        "    # into a specific location.\n",
        "    zObject.extractall(\n",
        "        path=\"\")"
      ],
      "metadata": {
        "id": "m75DfZkjZ9Zk"
      },
      "execution_count": 4,
      "outputs": []
    },
    {
      "cell_type": "code",
      "source": [
        "# Load model\n",
        "from happytransformer import HappyGeneration, GENTrainArgs, GENSettings\n",
        "\n",
        "gpt_neo = HappyGeneration(\"GPT-Neo\", \"EleutherAI/gpt-neo-125M\", load_path=\"model/\") "
      ],
      "metadata": {
        "id": "ABGsq7PiI3JZ"
      },
      "execution_count": 8,
      "outputs": []
    },
    {
      "cell_type": "code",
      "source": [
        "def generate_text_from_trained(seed_phrase, min_length=50, max_length=200):\n",
        "\n",
        "  top_k_sampling_settings = GENSettings(do_sample=True, top_k=50, max_length=max_length, min_length=min_length)\n",
        "  output_top_k_sampling = gpt_neo.generate_text(seed_phrase, args=top_k_sampling_settings)\n",
        "\n",
        "  subsequent_text = output_top_k_sampling.text\n",
        "  full_text = seed_phrase + subsequent_text\n",
        "\n",
        "  return full_text"
      ],
      "metadata": {
        "id": "XENXFqJKSrGV"
      },
      "execution_count": 9,
      "outputs": []
    },
    {
      "cell_type": "code",
      "source": [
        "# Test fined-tuned model with a seed phrase\n",
        "seed_phrase = \"He is a hardworking and diligent student. He\"\n",
        "\n",
        "generated_text = generate_text_from_trained(seed_phrase,10,50)\n",
        "\n",
        "print(\"\")\n",
        "print(generated_text)"
      ],
      "metadata": {
        "id": "l0rznwVYPYMu",
        "colab": {
          "base_uri": "https://localhost:8080/"
        },
        "outputId": "ef0be487-4fbb-45a2-8aac-9e4223e47a96"
      },
      "execution_count": 11,
      "outputs": [
        {
          "output_type": "stream",
          "name": "stderr",
          "text": [
            "Setting `pad_token_id` to `eos_token_id`:50256 for open-end generation.\n"
          ]
        },
        {
          "output_type": "stream",
          "name": "stdout",
          "text": [
            "\n",
            "He is a hardworking and diligent student. He consistently takes care of his learning and is very receptive to feedback. His academic strengths lie in his ability to perform well as well as his commitment to giving his best effort. His good performance in school is a testament to his ability to focus and to maxim\n"
          ]
        }
      ]
    },
    {
      "cell_type": "markdown",
      "source": [
        "# Generate Testimonials\n"
      ],
      "metadata": {
        "id": "X1v9KKKwIlrY"
      }
    },
    {
      "cell_type": "code",
      "source": [
        "#@markdown <b>Student Profile</b>\n",
        "\n",
        "import random\n",
        "\n",
        "# Student profile\n",
        "name = 'Jane' #@param {type:\"string\"}\n",
        "gender = 'female' #@param [\"male\", \"female\"]\n",
        "\n",
        "# Initialise empty paragraphs\n",
        "paragraph_1 = \"\"\n",
        "paragraph_2 = \"\"\n",
        "paragraph_3 = \"\"\n",
        "paragraph_4 = \"\"\n",
        "paragraph_5 = \"\"\n",
        "paragraph_6 = \"\"\n",
        "paragraph_7 = \"\"\n",
        "paragraph_8 = \"\"\n",
        "\n",
        "# Create gender checking code\n",
        "def check_gender(text, gender):\n",
        "  if gender == 'female':\n",
        "    text = text.replace(\" he \", \" she \")\n",
        "    text = text.replace(\" his \", \" her \")\n",
        "    text = text.replace(\" him \", \" her \")\n",
        "    text = text.replace(\" him.\", \" her.\")\n",
        "    text = text.replace(\"himself\", \"herself\")\n",
        "    text = text.replace(\"His \", \"Her \")\n",
        "    text = text.replace(\"He \", \"She \")\n",
        "  else:\n",
        "    text = text.replace(\" she \", \" he \")\n",
        "    text = text.replace(\" her \", \" his \")\n",
        "    text = text.replace(\" her.\", \" him.\")\n",
        "    text = text.replace(\"herself\", \"himself\")\n",
        "    text = text.replace(\"Her \", \"His \")\n",
        "    text = text.replace(\"She \", \"He \")   \n",
        "\n",
        "  return text"
      ],
      "metadata": {
        "id": "sji-9906AbIX",
        "cellView": "form"
      },
      "execution_count": 12,
      "outputs": []
    },
    {
      "cell_type": "code",
      "source": [
        "#@markdown <b>Paragraph 1 - General traits</b> \n",
        "\n",
        "#@markdown Please reset the cell to regenerate the paragraph\n",
        "\n",
        "def a_or_an(word):\n",
        "  vowels = ['a','e','i','o','u']\n",
        "  if word[0] in vowels:\n",
        "    return ' an '\n",
        "  else:\n",
        "    return ' a '\n",
        "\n",
        "trait_1 = 'hardworking' #@param {type:\"string\"}\n",
        "trait_2 = 'respectful' #@param {type:\"string\"}\n",
        "\n",
        "seed_phrase_1 = name + \" is\" + a_or_an(trait_1) + trait_1\n",
        "seed_phrase_2 = \"He is\" + a_or_an(trait_2) + trait_2\n",
        "\n",
        "number_of_choices = 5 #@param {type:\"slider\", min:1, max:10, step:1}\n",
        "\n",
        "# Create an array\n",
        "generated_text_array = []\n",
        "\n",
        "for i in range(number_of_choices):\n",
        "\n",
        "  generated_text_1 = generate_text_from_trained(seed_phrase_1,10,30)\n",
        "\n",
        "  # Remove text after full stop\n",
        "  generated_text_1 = generated_text_1.split('.')[0] + '.'\n",
        "\n",
        "  generated_text_2 = generate_text_from_trained(seed_phrase_2,10,30)\n",
        "\n",
        "  # Remove text after full stop\n",
        "  generated_text_2 = generated_text_2.split('.')[0] + '.'\n",
        "\n",
        "  paragraph_1 = generated_text_1 + \" \" + generated_text_2\n",
        "\n",
        "  paragraph_1 = check_gender(paragraph_1, gender)\n",
        "\n",
        "  generated_text_array.append(paragraph_1)\n",
        "\n",
        "for index, paragraph in enumerate(generated_text_array):\n",
        "  print(\"\")\n",
        "  print(f\"{index+1}: {paragraph}\")"
      ],
      "metadata": {
        "id": "YVZ0gYFa_iyB",
        "cellView": "form",
        "colab": {
          "base_uri": "https://localhost:8080/"
        },
        "outputId": "874867e1-6907-4433-bb5f-ed6309405577"
      },
      "execution_count": 13,
      "outputs": [
        {
          "output_type": "stream",
          "name": "stderr",
          "text": [
            "Setting `pad_token_id` to `eos_token_id`:50256 for open-end generation.\n",
            "Setting `pad_token_id` to `eos_token_id`:50256 for open-end generation.\n",
            "Setting `pad_token_id` to `eos_token_id`:50256 for open-end generation.\n",
            "Setting `pad_token_id` to `eos_token_id`:50256 for open-end generation.\n",
            "Setting `pad_token_id` to `eos_token_id`:50256 for open-end generation.\n",
            "Setting `pad_token_id` to `eos_token_id`:50256 for open-end generation.\n",
            "Setting `pad_token_id` to `eos_token_id`:50256 for open-end generation.\n",
            "Setting `pad_token_id` to `eos_token_id`:50256 for open-end generation.\n",
            "/usr/local/lib/python3.7/dist-packages/transformers/pipelines/base.py:1046: UserWarning: You seem to be using the pipelines sequentially on GPU. In order to maximize efficiency please use a dataset\n",
            "  UserWarning,\n",
            "Setting `pad_token_id` to `eos_token_id`:50256 for open-end generation.\n",
            "Setting `pad_token_id` to `eos_token_id`:50256 for open-end generation.\n"
          ]
        },
        {
          "output_type": "stream",
          "name": "stdout",
          "text": [
            "\n",
            "1: Jane is a hardworking, positive-spirited young lady who is passionate about contributing her knowledge and skills to the classroom by giving it her all. She is a respectful, sincere person who is well-regarded by everyone, and has the charisma and potential to do well in the pursuit of excellence.\n",
            "\n",
            "2: Jane is a hardworking young lady with a big heart for the community. She is a respectful and inclusive individual who actively seeks to raise the standard of her own abilities beyond the classroom.\n",
            "\n",
            "3: Jane is a hardworking, conscientious and conscientious individual. She is a respectful student, who puts thought into every piece of work that she and her peers contribute to the classroom.\n",
            "\n",
            "4: Jane is a hardworking individual who has made steady improvement in a myriad of projects over the span of her two years at Raffles Institution (RI). She is a respectful and responsible person, who sets high needs and takes steps to achieve them.\n",
            "\n",
            "5: Jane is a hardworking young lady who enjoys good collaboration and camaraderie. She is a respectful young man with a zealous commitment to service.\n"
          ]
        }
      ]
    },
    {
      "cell_type": "code",
      "source": [
        "# Can include a section on FIRE award\n",
        "\n",
        "choice = 5 #@param {type:\"integer\"}\n",
        "\n",
        "likeable = True #@param {type:\"boolean\"}\n",
        "\n",
        "FIRE_award = True #@param {type:\"boolean\"}\n",
        "\n",
        "if choice > number_of_choices or choice < 1:\n",
        "  print(f\"Please choose a number from 1 to {number_of_choices}.\")\n",
        "else:\n",
        "  paragraph_chosen = generated_text_array[choice-1]\n",
        "\n",
        "  # Include text if student is likeable\n",
        "  if likeable:\n",
        "    paragraph_chosen = paragraph_chosen + \" He has an amiable personality and is well-liked by his peers.\"\n",
        "\n",
        "  if FIRE_award:\n",
        "    paragraph_chosen = paragraph_chosen + \" He was quite exemplary in his behaviour and attitude and thus he was a recipient of the school's F.I.R.E. award - which is for students who are role models and display the school's core values of fortitude, integrity, respect and enterprise.\"\n",
        "\n",
        "  paragraph_1 = paragraph_chosen\n",
        "\n",
        "  paragraph_1 = check_gender(paragraph_1, gender)\n",
        "\n",
        "  print(f\"You chose: {paragraph_1}\")"
      ],
      "metadata": {
        "id": "AHPUJf-OevVD",
        "cellView": "form",
        "colab": {
          "base_uri": "https://localhost:8080/"
        },
        "outputId": "05a55c65-32bd-4048-ab70-feb66bef2406"
      },
      "execution_count": 14,
      "outputs": [
        {
          "output_type": "stream",
          "name": "stdout",
          "text": [
            "You chose: Jane is a hardworking young lady who enjoys good collaboration and camaraderie. She is a respectful young man with a zealous commitment to service. She has an amiable personality and is well-liked by her peers. She was quite exemplary in her behaviour and attitude and thus she was a recipient of the school's F.I.R.E. award - which is for students who are role models and display the school's core values of fortitude, integrity, respect and enterprise.\n"
          ]
        }
      ]
    },
    {
      "cell_type": "code",
      "source": [
        "#@markdown <b>Paragraph 2 - Academics</b> \n",
        "\n",
        "acad_passage = {\n",
        "    'weak':\"When it came to his academic studies, <name> set clear targets for himself and strove to achieve them. He demonstrated perseverance in the face of adversity and was never afraid to seek help when needed.\",\n",
        "    'okay':\"Academically, <name> was a conscientious student who strove to do his best in every situation. He was persistent in his pursuit of improvement and never gave up in the face of challenges. Unyielding towards setbacks, <name>'s perseverance paid off as he made steady improvement in many of his subjects.\",\n",
        "    'outstanding':\"Academically, <name> was a consistent and strong performer. His ability to reflect on his learning and keep pace with the rigorous school curriculum were key to his academic success. As an independent learner, <name> took a systematic and proactive approach to monitoring his own progress. He developed strong cognitive and analytical skills over the two years and impressed his teachers with his dedication to his academic responsibilities.\"\n",
        "}\n",
        "\n",
        "student_acad_ability = \"outstanding\" #@param [\"weak\", \"okay\", \"outstanding\"]\n",
        "\n",
        "paragraph_2 = acad_passage[student_acad_ability]\n",
        "\n",
        "paragraph_2 = paragraph_2.replace('<name>',name)\n",
        "\n",
        "paragraph_2 = check_gender(paragraph_2, gender)\n",
        "\n",
        "print(paragraph_2)\n",
        "\n",
        "# Need to include paraphraser here"
      ],
      "metadata": {
        "id": "y3mIdG4n_sCg",
        "cellView": "form",
        "colab": {
          "base_uri": "https://localhost:8080/"
        },
        "outputId": "e4d3fad4-325b-4320-de0d-866e30cd82ae"
      },
      "execution_count": 15,
      "outputs": [
        {
          "output_type": "stream",
          "name": "stdout",
          "text": [
            "Academically, Jane was a consistent and strong performer. Her ability to reflect on her learning and keep pace with the rigorous school curriculum were key to her academic success. As an independent learner, Jane took a systematic and proactive approach to monitoring her own progress. She developed strong cognitive and analytical skills over the two years and impressed her teachers with her dedication to her academic responsibilities.\n"
          ]
        }
      ]
    },
    {
      "cell_type": "code",
      "source": [
        "# Paragraph 3 - PW/OGL/Reps\n",
        "\n",
        "#@title <b>Paragraph 3 - Other school stuff (PW/OGL/rep)</b>\n",
        "\n",
        "#@markdown <b>Project Work</b>\n",
        "\n",
        "Project_Work = True #@param {type:\"boolean\"}\n",
        "\n",
        "# Can include a few more standard answers\n",
        "\n",
        "role = \"member\" #@param [\"leader\", \"member\"]\n",
        "\n",
        "#@markdown Please check the overwrite box to key in your own comments\n",
        "\n",
        "overwrite_PW = True #@param {type:\"boolean\"}\n",
        "\n",
        "#@markdown \"As the leader/member of his Project Work group, ...\"\n",
        "text_PW = \"she made sure that everyone put in the due effort. She was respectful of people's opinions.\" #@param {type:\"string\"}\n",
        "\n",
        "role_passage = {\n",
        "    'leader':\"As the leader of his Project Work group, \",\n",
        "    'member':\"As a member of his Project Work group, \"\n",
        "}\n",
        "\n",
        "paragraph_3 = \"\"\n",
        "\n",
        "if Project_Work:\n",
        "  if overwrite_PW == False:\n",
        "    paragraph_3 = role_passage[role] + \"<name> was always respectful of others’ opinions and he always took the time to explain the rationale behind his decisions to ensure that everyone was comfortable and happy with the outcome.\"\n",
        "  else:\n",
        "    paragraph_3 = role_passage[role] + text_PW\n",
        "\n",
        "\n",
        "#@markdown <b>OGL</b>\n",
        "\n",
        "# Get year for OGL\n",
        "from datetime import date\n",
        "\n",
        "current_year = date.today().year\n",
        "\n",
        "OGL = True #@param {type:\"boolean\"}\n",
        "\n",
        "background = \"JAE\" #@param [\"IP\", \"JAE\"]\n",
        "\n",
        "overwrite_OGL = True #@param {type:\"boolean\"}\n",
        "\n",
        "#@markdown \"John was also selected to be an Orientation Group Leader (OGL) for the 2022 Orientation...\"\n",
        "text_OGL = \"He was the best OGL!\" #@param {type:\"string\"}\n",
        "\n",
        "template_ogl_IP = [\n",
        "    f\" <name> was also selected to be an Orientation Group Leader (OGL) for the {current_year} Orientation. He collaborated with other OGLs with ease, using his soft skills to help the new students under his guidance to adjust to their new environment and make new friends before the onset of the school term.\"\n",
        "]\n",
        "\n",
        "template_ogl_JAE = [\n",
        "    \" At the start of his second year, <name> was appointed as an Orientation Group Leader. Bridging students from the Integrated Programme (IP) and the Joint Admission Exercise (JAE) was no mean feat. As a student from the Joint Admission Exercise, <name> understood the difficulty in integrating into a group with IP students who have known one another for years. His empathy allowed him to help his JAE group members to assimilate into the group.\"\n",
        "]\n",
        "\n",
        "if OGL:\n",
        "  if not overwrite_OGL:\n",
        "    if background == \"IP\":\n",
        "      paragraph_3 += template_ogl_IP[random.randint(0,len(template_ogl_IP)-1)]\n",
        "    else:\n",
        "      paragraph_3 += template_ogl_JAE[random.randint(0,len(template_ogl_JAE)-1)]\n",
        "  else:\n",
        "    paragraph_3 += f\" <name> was also selected to be an Orientation Group Leader (OGL) for the {current_year} Orientation. \" + text_OGL\n",
        "\n",
        "#@markdown <b>CT/subject Rep</b>\n",
        "\n",
        "template_class_rep = [\n",
        "    \" <name> also served his class as the Civics Representative. His assistance in communicating and coordinating matters with the class was very helpful in setting up communication channels and processes that continued even after he relinquished his duties.\",\n",
        "    \" As the Civics Representative for his class, <name> performed exemplarily, never shirking from his roles and responsibilities, and often going beyond to better serve his classmates. He helped enhance the communication between his peers and all their tutors, and was constantly looking to carry out his work in a more efficacious manner.\"\n",
        "]\n",
        "\n",
        "template_subject_rep = [\n",
        "    \" As the class' subject representative for <subject>, <name> fulfilled his role well as a liaison between his tutor and his peers. He effectively communicated instructions and reminders from their tutor to the class and could be depended on to relay his peers' concerns back to their tutor.\",\n",
        "    \" <name> also served his class as the <subject> Subject Representative. He was very helpful in the communication between his classmates and his subject tutor. He was also meticulous and dutiful in the discharge of administrative duties such as collation of assignments and collection of materials for distribution to the class.\"\n",
        "]\n",
        "\n",
        "Class_rep = True #@param {type:\"boolean\"}\n",
        "\n",
        "class_role = \"Subject Rep\" #@param [\"Subject Rep\", \"Civics Rep\"]\n",
        "\n",
        "Subject = 'Chemistry' #@param {type:\"string\"}\n",
        "\n",
        "overwrite_rep = True #@param {type:\"boolean\"}\n",
        "\n",
        "#@markdown \"John was the civics/subject rep for XXX. ...\"\n",
        "text_rep = \"He was the best subject rep!\" #@param {type:\"string\"}\n",
        "\n",
        "if Class_rep:\n",
        "  if not overwrite_rep:\n",
        "    if class_role == \"Civics Rep\":\n",
        "      paragraph_3 += template_class_rep[random.randint(0,len(template_class_rep)-1)]\n",
        "    else:\n",
        "      paragraph_3 += template_subject_rep[random.randint(0,len(template_subject_rep)-1)]\n",
        "      paragraph_3 = paragraph_3.replace('<subject>',Subject)\n",
        "  else:\n",
        "    if class_role == \"Civics Rep\":\n",
        "      paragraph_3 += \" <name> also served his class as the Civics Representative. \" + text_rep\n",
        "    else:\n",
        "      paragraph_3 += \" <name> also served his class as the subject representative for <subject>. \" + text_rep\n",
        "      paragraph_3 = paragraph_3.replace('<subject>',Subject)\n",
        "\n",
        "# Clean up\n",
        "\n",
        "paragraph_3 = paragraph_3.replace('<name>',name)\n",
        "\n",
        "paragraph_3 = check_gender(paragraph_3, gender)\n",
        "\n",
        "print(paragraph_3)"
      ],
      "metadata": {
        "colab": {
          "base_uri": "https://localhost:8080/"
        },
        "id": "UrAF5LJ8_tWP",
        "outputId": "68129d3d-16a4-4d17-cd8f-6521d7af4e47",
        "cellView": "form"
      },
      "execution_count": 16,
      "outputs": [
        {
          "output_type": "stream",
          "name": "stdout",
          "text": [
            "As a member of her Project Work group, she made sure that everyone put in the due effort. She was respectful of people's opinions. Jane was also selected to be an Orientation Group Leader (OGL) for the 2022 Orientation. She was the best OGL! Jane also served her class as the subject representative for Chemistry. She was the best subject rep!\n"
          ]
        }
      ]
    },
    {
      "cell_type": "code",
      "source": [
        "#@markdown <b>Paragraph 4 - CCA 1</b>\n",
        "\n",
        "# Might need to include personal traits (see testimonial document)\n",
        "\n",
        "CCA = \"Students' Council\" #@param {type:\"string\"}\n",
        "role = \"House Captain for the Moor-Tarbet House Directorate\" #@param {type:\"string\"}\n",
        "\n",
        "task_ = True #@param {type:\"boolean\"}\n",
        "#@markdown \"In his Co-curricular Activity (CCA), ...\"\n",
        "task = \"her role was to oversee the entire CCA and made sure no one is slacking.\" #@param {type:\"string\"}\n",
        "\n",
        "experience_ = True #@param {type:\"boolean\"}\n",
        "#@markdown \"During that time, ...\" (Can include setbacks/experiences)\n",
        "experience = \"She planned multiple big events and worked with many groups. One notable event was planning Orientation. She messed up many times but came back stronger each time.\" #@param {type:\"string\"}\n",
        "\n",
        "lesson_ = True #@param {type:\"boolean\"}\n",
        "#@markdown \"From his experiences, ...\" (use learnt/honed/demonstrated)\n",
        "lesson = \"She learnt how to manage expectations and plan excellent events.\" #@param {type:\"string\"}\n",
        "\n",
        "award_ = False #@param {type:\"boolean\"}\n",
        "#@markdown \"As a result of his perseverance and dedication, ...\"\n",
        "award = \"\" #@param {type:\"string\"}\n",
        "\n",
        "paragraph_4 = f\"{name} is{a_or_an(role)}{role} of {CCA}.\"\n",
        "\n",
        "if task_ == True:\n",
        "  paragraph_4 += f\" In his Co-curricular Activity (CCA), {task}\"\n",
        "if experience_ == True:\n",
        "  paragraph_4 += f\" During that time, {experience}\"\n",
        "if lesson_ == True:\n",
        "  paragraph_4 += f\" From his experiences, {lesson}\"\n",
        "if award_ == True:\n",
        "  paragraph_4 += f\" As a result of his perseverance and dedication, {award}\"\n",
        "\n",
        "paragraph_4 = check_gender(paragraph_4, gender)\n",
        "\n",
        "print(paragraph_4)"
      ],
      "metadata": {
        "id": "2o03cUEH_taY",
        "cellView": "form",
        "colab": {
          "base_uri": "https://localhost:8080/"
        },
        "outputId": "93624fc1-a14d-4baf-c588-e084a1142191"
      },
      "execution_count": 17,
      "outputs": [
        {
          "output_type": "stream",
          "name": "stdout",
          "text": [
            "Jane is a House Captain for the Moor-Tarbet House Directorate of Students' Council. In her Co-curricular Activity (CCA), her role was to oversee the entire CCA and made sure no one is slacking. During that time, She planned multiple big events and worked with many groups. One notable event was planning Orientation. She messed up many times but came back stronger each time. From her experiences, She learnt how to manage expectations and plan excellent events.\n"
          ]
        }
      ]
    },
    {
      "cell_type": "code",
      "source": [
        "#@markdown <b>Paragraph 5 - CCA 2</b>\n",
        "\n",
        "# Might need to include personal traits (see testimonial document)\n",
        "\n",
        "has_second_cca = True #@param {type:\"boolean\"}\n",
        "\n",
        "paragraph_5 = \"\"\n",
        "\n",
        "if has_second_cca:\n",
        "  CCA_2 = 'Photography Society' #@param {type:\"string\"}\n",
        "  role = \"member\" #@param {type:\"string\"}\n",
        "\n",
        "  task_ = True #@param {type:\"boolean\"}\n",
        "  #@markdown \"As part of (CCA), ...\"\n",
        "  task = \"her role is to take photo of events.\" #@param {type:\"string\"}\n",
        "\n",
        "  experience_ = True #@param {type:\"boolean\"}\n",
        "  #@markdown \"During that time, ...\" (Can include setbacks/experiences)\n",
        "  experience = \"she struggled with capturing nice photos. But eventually with the help of her amazing teacher in charge, she succeeded.\" #@param {type:\"string\"}\n",
        "\n",
        "  lesson_ = True #@param {type:\"boolean\"}\n",
        "  #@markdown \"Through his experiences, ...\" (use learnt/honed/demonstrated)\n",
        "  lesson = \"she demonstrated extreme resilience and perseverance. \" #@param {type:\"string\"}\n",
        "\n",
        "  award_ = True #@param {type:\"boolean\"}\n",
        "  #@markdown \"As a result of his determination and resilience, ...\"\n",
        "  award = \"she won the best photographer of the year from National Geographic!\" #@param {type:\"string\"}\n",
        "\n",
        "\n",
        "  paragraph_5 = f\"Other than being a part of {CCA}, {name} was also part of {CCA_2}.\"\n",
        "\n",
        "  if task_ == True:\n",
        "    paragraph_5 += f\" As part of {CCA_2}, {task}\"\n",
        "  if experience_ == True:\n",
        "    paragraph_5 += f\" During that time, {experience}\"\n",
        "  if lesson_ == True:\n",
        "    paragraph_5 += f\" Through his experiences, {lesson}\"\n",
        "  if award_ == True:\n",
        "    paragraph_5 += f\" As a result of his perseverance and dedication, {award}\"\n",
        "\n",
        "paragraph_5 = check_gender(paragraph_5, gender)\n",
        "\n",
        "print(paragraph_5)"
      ],
      "metadata": {
        "id": "henFO1uq_tdf",
        "cellView": "form",
        "colab": {
          "base_uri": "https://localhost:8080/"
        },
        "outputId": "de4a2acb-e6ca-4595-a50f-cf30e8e93a67"
      },
      "execution_count": 18,
      "outputs": [
        {
          "output_type": "stream",
          "name": "stdout",
          "text": [
            "Other than being a part of Students' Council, Jane was also part of Photography Society. As part of Photography Society, her role is to take photo of events. During that time, she struggled with capturing nice photos. But eventually with the help of her amazing teacher in charge, she succeeded. Through her experiences, she demonstrated extreme resilience and perseverance.  As a result of her perseverance and dedication, she won the best photographer of the year from National Geographic!\n"
          ]
        }
      ]
    },
    {
      "cell_type": "code",
      "source": [
        "#@markdown <b>Paragraph 6 - VIA</b>\n",
        "\n",
        "number_of_VIA = \"2\" #@param [0,1,2]\n",
        "\n",
        "via_hours = \"A lot\" #@param [\"A bit\", \"A lot\"]\n",
        "\n",
        "sample_passages = {\n",
        "    \"A bit\":[\"<name> actively gives back to the community.\", \"<name> also participates actively in community service.\", \"Apart from his studies and involvement in his CCA, <name> set aside time to serve the community.\", \"<name> also found time to give back to the community amidst his busy schedule.\"],\n",
        "    \"A lot\":[\"Strongly believing in having a heart for service and making a positive difference to others, <name> participated in many Values in Action (VIA) projects.\"]\n",
        "}\n",
        "\n",
        "# Student VIA information\n",
        "\n",
        "#@markdown \"John volunteered his services in the ...\"\n",
        "name_of_VIA_1 = 'Heartware Network' #@param {type:\"string\"}\n",
        "\n",
        "#@markdown \"In his volunteering stint, ...\" (Include experiences)\n",
        "experience_1 = \"her job was to teach primary school students tuition.\" #@param {type:\"string\"}\n",
        "\n",
        "#@markdown \"Through this experience, ...\" (use learnt/honed/demonstrated)\n",
        "lesson_1 = \"she learnt that she needs to be patient.\" #@param {type:\"string\"}\n",
        "\n",
        "#@markdown \"Additionally, John participated in the Values in Action (VIA) project where he worked with...\"\n",
        "name_of_VIA_2 = 'the National University of Singapore (NUS)' #@param {type:\"string\"}\n",
        "\n",
        "#@markdown \"As part of the programme, ...\" (Include experiences)\n",
        "experience_2 = \"she was tasked to look after the school compound in Yale-NUS\" #@param {type:\"string\"}\n",
        "\n",
        "#@markdown \"From his experiences, ...\" (use learnt/honed/demonstrated)\n",
        "lesson_2 = \"she learnt how difficult it is to ensure that everyone in Yale-NUS follows rules.\" #@param {type:\"string\"}\n",
        "\n",
        "# Generative text\n",
        "intro_1 = f\" He volunteered his services with {name_of_VIA_1}.\"\n",
        "intro_2 = f\" Additionally, <name> participated in the Values in Action (VIA) project where he worked with {name_of_VIA_2}.\"\n",
        "\n",
        "# Start paragraph 6\n",
        "len_sample_chosen = len(sample_passages[via_hours])-1\n",
        "\n",
        "paragraph_6_start = sample_passages[via_hours][random.randint(0,len_sample_chosen)]\n",
        "\n",
        "paragraph_6 = \"\" \n",
        "\n",
        "if number_of_VIA == \"0\":\n",
        "  paragraph_6 = \"\" # No VIA at all, so nothing on this\n",
        "elif number_of_VIA == \"1\":\n",
        "  experience_1_passage = f\" In his volunteering stint, {experience_1}\"\n",
        "  lesson_1_passage = f\" Through this experience, {lesson_1}\"\n",
        "  paragraph_6 = paragraph_6_start + intro_1 + experience_1_passage + lesson_1_passage\n",
        "else:\n",
        "  # First VIA experience\n",
        "  experience_1_passage = f\" In his volunteering stint, {experience_1}\"\n",
        "  lesson_1_passage = f\" Through this experience, {lesson_1}\"\n",
        "  paragraph_6 = paragraph_6_start + intro_1 + experience_1_passage + lesson_1_passage\n",
        "  \n",
        "  # Second VIA experience\n",
        "  experience_2_passage = f\" As part of the programme, {experience_2}\"\n",
        "  lesson_2_passage = f\" From his experiences, {lesson_2}\"\n",
        "  paragraph_6 = paragraph_6 + intro_2 + experience_2_passage + lesson_2_passage\n",
        "\n",
        "\n",
        "paragraph_6 = paragraph_6.replace('<name>',name)\n",
        "\n",
        "paragraph_6 = check_gender(paragraph_6, gender)\n",
        "\n",
        "print(paragraph_6)"
      ],
      "metadata": {
        "id": "FvjvDLb-_tgU",
        "cellView": "form",
        "colab": {
          "base_uri": "https://localhost:8080/"
        },
        "outputId": "b852848b-945d-4f1d-ceb0-82855b0efaf2"
      },
      "execution_count": 19,
      "outputs": [
        {
          "output_type": "stream",
          "name": "stdout",
          "text": [
            "Strongly believing in having a heart for service and making a positive difference to others, Jane participated in many Values in Action (VIA) projects. She volunteered her services with Heartware Network. In her volunteering stint, her job was to teach primary school students tuition. Through this experience, she learnt that she needs to be patient. Additionally, Jane participated in the Values in Action (VIA) project where she worked with the National University of Singapore (NUS). As part of the programme, she was tasked to look after the school compound in Yale-NUS From her experiences, she learnt how difficult it is to ensure that everyone in Yale-NUS follows rules.\n"
          ]
        }
      ]
    },
    {
      "cell_type": "code",
      "source": [
        "#@markdown <b>Paragraph 7 - External Activities</b>\n",
        "\n",
        "explored_out = True #@param {type:\"boolean\"}\n",
        "\n",
        "paragraph_7 = \"\"\n",
        "\n",
        "if explored_out:\n",
        "\n",
        "  intro_array = [\n",
        "      \"Outside of school, <name> actively sought out opportunities to widen his horizons beyond his passion.\",\n",
        "      \"<name> is also open-minded and curious to try new things. Outside of school, \",\n",
        "  ]\n",
        "\n",
        "  #@markdown \"E.g. She had a job shadowing opportunity at the SengKang General Hospital.\"\n",
        "  what_was_it = 'Shee had a job shadowing opportunity at the SengKang General Hospital.' #@param {type:\"string\"}\n",
        "\n",
        "  #@markdown \"In that time, ...\" (Include experiences)\n",
        "  experience = \"her job was to help buy coffee for doctors.\" #@param {type:\"string\"}\n",
        "\n",
        "  #@markdown \"Through this experience, ...\" (use learnt/honed/demonstrated)\n",
        "  lesson = \"she demonstrated much humility. \" #@param {type:\"string\"}\n",
        "\n",
        "  what_was_it = \" \" + what_was_it\n",
        "  experience_passage = f\" In that time, {experience}\"\n",
        "  lesson_passage = f\" Through this experience, {lesson}\"\n",
        "\n",
        "  paragraph_7 = intro_array[random.randint(0,len(intro_array)-1)] + what_was_it + experience_passage + lesson_passage\n",
        "\n",
        "paragraph_7 = paragraph_7.replace('<name>',name)\n",
        "\n",
        "paragraph_7 = check_gender(paragraph_7, gender)\n",
        "\n",
        "print(paragraph_7)"
      ],
      "metadata": {
        "id": "tcHDC_sj_9kD",
        "cellView": "form",
        "colab": {
          "base_uri": "https://localhost:8080/"
        },
        "outputId": "4e847a54-6b32-463c-d8fd-4edcf2272606"
      },
      "execution_count": 20,
      "outputs": [
        {
          "output_type": "stream",
          "name": "stdout",
          "text": [
            "Jane is also open-minded and curious to try new things. Outside of school,  Shee had a job shadowing opportunity at the SengKang General Hospital. In that time, her job was to help buy coffee for doctors. Through this experience, she demonstrated much humility. \n"
          ]
        }
      ]
    },
    {
      "cell_type": "code",
      "source": [
        "#@markdown <b>Paragraph 8 - Concluding Statements</b>\n",
        "\n",
        "random_statements = [\n",
        "    \"In all, <name> is an individual of outstanding character and values. He is a passionate and fun-loving person with a positive outlook on life. Even in the face of setbacks, he is resilient and determined to overcome any obstacles in his way. With his high emotional quotient and fortitude, <name> is poised for success in his future endeavours and will be an asset to any organisation she chooses to join.\",\n",
        "    \"A promising student with an inquisitive mind, <name> has demonstrated resilience and adaptability in pursuing his endeavours and has the potential to achieve whatever he sets out to do in the future.\",\n",
        "    \"<name> has shown himself to be an amiable student man with a positive outlook on life. His peers see him as a supportive and trustworthy friend who often puts them before himself and shows genuine care and concern for them. He is a good-natured and confident student with much potential and will certainly achieve greater heights in his future endeavours.\",\n",
        "    \"<name> is an agreeable character but he also has a strong innate determination to see things through. He has a positive and open mindset that rubs off on others around him, while also having the intellectual humility to learn from others. He is steadfast, does not falter in adverse conditions, and can be counted on to handle challenging and stressful situations well. He is a promising young man who deserves every opportunity to achieve his potential. He will be an asset to his community.\",\n",
        "    \"<name> possesses an inquisitive mind with a genuine intellectual liveliness. He is an outspoken individual who is not afraid to voice his opinions. He displays strong passion and commitment in his areas of interests. He is willing to work hard to achieve his goals and will persevere until he succeeds. <name>’s positive traits will undoubtedly stand him in good stead in his future endeavours.\"\n",
        "]\n",
        "\n",
        "paragraph_8 = random_statements[random.randint(0,len(random_statements)-1)]\n",
        "\n",
        "paragraph_8 = paragraph_8.replace('<name>',name)\n",
        "\n",
        "paragraph_8 = check_gender(paragraph_8, gender)\n",
        "\n",
        "print(paragraph_8)"
      ],
      "metadata": {
        "id": "_5kseHag_9m-",
        "cellView": "form",
        "colab": {
          "base_uri": "https://localhost:8080/"
        },
        "outputId": "73529068-2576-4770-b69f-9212162fb98d"
      },
      "execution_count": 21,
      "outputs": [
        {
          "output_type": "stream",
          "name": "stdout",
          "text": [
            "Jane has shown herself to be an amiable student man with a positive outlook on life. Her peers see her as a supportive and trustworthy friend who often puts them before herself and shows genuine care and concern for them. She is a good-natured and confident student with much potential and will certainly achieve greater heights in her future endeavours.\n"
          ]
        }
      ]
    },
    {
      "cell_type": "markdown",
      "source": [
        "# Combine all"
      ],
      "metadata": {
        "id": "0pddR_5CEVvm"
      }
    },
    {
      "cell_type": "code",
      "source": [
        "#@markdown <b>Combine all paragraphs</b>\n",
        "\n",
        "full_testimonial_array = []\n",
        "\n",
        "for paragraph in [paragraph_1, paragraph_2, paragraph_3, paragraph_4, paragraph_5, paragraph_6, paragraph_7, paragraph_8]:\n",
        "  if paragraph != \"\":\n",
        "    full_testimonial_array.append(paragraph)\n",
        "\n",
        "full_testimonial = '\\n\\n'.join(full_testimonial_array)\n",
        "\n",
        "print(full_testimonial)\n",
        "\n",
        "number_of_words = len(full_testimonial.split())\n",
        "\n",
        "print(\"\")\n",
        "print(\"\")\n",
        "print(f'(Number of words: {number_of_words})')"
      ],
      "metadata": {
        "id": "lDYpkOe4EUQA",
        "cellView": "form",
        "colab": {
          "base_uri": "https://localhost:8080/"
        },
        "outputId": "5105de56-6125-428a-c5d5-e4e99954b259"
      },
      "execution_count": 22,
      "outputs": [
        {
          "output_type": "stream",
          "name": "stdout",
          "text": [
            "Jane is a hardworking young lady who enjoys good collaboration and camaraderie. She is a respectful young man with a zealous commitment to service. She has an amiable personality and is well-liked by her peers. She was quite exemplary in her behaviour and attitude and thus she was a recipient of the school's F.I.R.E. award - which is for students who are role models and display the school's core values of fortitude, integrity, respect and enterprise.\n",
            "\n",
            "Academically, Jane was a consistent and strong performer. Her ability to reflect on her learning and keep pace with the rigorous school curriculum were key to her academic success. As an independent learner, Jane took a systematic and proactive approach to monitoring her own progress. She developed strong cognitive and analytical skills over the two years and impressed her teachers with her dedication to her academic responsibilities.\n",
            "\n",
            "As a member of her Project Work group, she made sure that everyone put in the due effort. She was respectful of people's opinions. Jane was also selected to be an Orientation Group Leader (OGL) for the 2022 Orientation. She was the best OGL! Jane also served her class as the subject representative for Chemistry. She was the best subject rep!\n",
            "\n",
            "Jane is a House Captain for the Moor-Tarbet House Directorate of Students' Council. In her Co-curricular Activity (CCA), her role was to oversee the entire CCA and made sure no one is slacking. During that time, She planned multiple big events and worked with many groups. One notable event was planning Orientation. She messed up many times but came back stronger each time. From her experiences, She learnt how to manage expectations and plan excellent events.\n",
            "\n",
            "Other than being a part of Students' Council, Jane was also part of Photography Society. As part of Photography Society, her role is to take photo of events. During that time, she struggled with capturing nice photos. But eventually with the help of her amazing teacher in charge, she succeeded. Through her experiences, she demonstrated extreme resilience and perseverance.  As a result of her perseverance and dedication, she won the best photographer of the year from National Geographic!\n",
            "\n",
            "Strongly believing in having a heart for service and making a positive difference to others, Jane participated in many Values in Action (VIA) projects. She volunteered her services with Heartware Network. In her volunteering stint, her job was to teach primary school students tuition. Through this experience, she learnt that she needs to be patient. Additionally, Jane participated in the Values in Action (VIA) project where she worked with the National University of Singapore (NUS). As part of the programme, she was tasked to look after the school compound in Yale-NUS From her experiences, she learnt how difficult it is to ensure that everyone in Yale-NUS follows rules.\n",
            "\n",
            "Jane is also open-minded and curious to try new things. Outside of school,  Shee had a job shadowing opportunity at the SengKang General Hospital. In that time, her job was to help buy coffee for doctors. Through this experience, she demonstrated much humility. \n",
            "\n",
            "Jane has shown herself to be an amiable student man with a positive outlook on life. Her peers see her as a supportive and trustworthy friend who often puts them before herself and shows genuine care and concern for them. She is a good-natured and confident student with much potential and will certainly achieve greater heights in her future endeavours.\n",
            "\n",
            "\n",
            "(Number of words: 569)\n"
          ]
        }
      ]
    },
    {
      "cell_type": "code",
      "source": [
        "#@markdown <b>Save to MS Word</b>\n",
        "\n",
        "# Cell to save as MS word\n",
        "\n",
        "from docx import Document\n",
        "from docx.shared import Pt\n",
        "from docx.enum.text import WD_ALIGN_PARAGRAPH\n",
        "\n",
        "# Create new document\n",
        "document = Document()\n",
        "\n",
        "# Add text\n",
        "paragraph = document.add_paragraph(full_testimonial)\n",
        "\n",
        "# Change style\n",
        "style = document.styles['Normal']\n",
        "font = style.font\n",
        "font.name = 'Arial'\n",
        "font.size = Pt(11)\n",
        "\n",
        "# align paragraph\n",
        "paragraph.alignment = WD_ALIGN_PARAGRAPH.JUSTIFY\n",
        "\n",
        "# Create doc folder\n",
        "path = \"doc\"\n",
        "# Check whether the specified path exists or not\n",
        "isExist = os.path.exists(path)\n",
        "\n",
        "# If folder does not exist, create folder\n",
        "if not isExist:\n",
        "  !mkdir doc\n",
        "\n",
        "document.save(f'./doc/{name}.docx')\n",
        "\n",
        "print(f\"Testimonial for {name} saved in word document!\")"
      ],
      "metadata": {
        "id": "VomkI-Hbef-y",
        "colab": {
          "base_uri": "https://localhost:8080/"
        },
        "outputId": "a765c936-b22c-49ed-8696-058ba072a2e0"
      },
      "execution_count": 24,
      "outputs": [
        {
          "output_type": "stream",
          "name": "stdout",
          "text": [
            "Testimonial for Jane saved in word document!\n"
          ]
        }
      ]
    },
    {
      "cell_type": "code",
      "source": [
        "#@title Download MS Word or Zip File\n",
        "import ipywidgets as widgets\n",
        "from IPython.display import display\n",
        "button = widgets.Button(description=\"Download All\")\n",
        "output = widgets.Output()\n",
        "\n",
        "button_all = widgets.Button(description=\"Download Current\")\n",
        "output_all = widgets.Output()\n",
        "\n",
        "def on_button_clicked(b):\n",
        "  # Display the message within the output widget.\n",
        "  with output:\n",
        "    # Save all documents as zip\n",
        "    !zip -r ./testimonials.zip ./doc\n",
        "\n",
        "    from google.colab import files\n",
        "    files.download(\"./testimonials.zip\")\n",
        "\n",
        "def on_button_all_clicked(b):\n",
        "  # Display the message within the output widget.\n",
        "  with output_all:\n",
        "    # Save current document\n",
        "    from google.colab import files\n",
        "    files.download(f\"./doc/{name}.docx\")\n",
        "\n",
        "button.on_click(on_button_clicked)\n",
        "display(button, output)\n",
        "\n",
        "button_all.on_click(on_button_all_clicked)\n",
        "display(button_all, output_all)"
      ],
      "metadata": {
        "id": "v9V9LvRgojb7",
        "cellView": "form",
        "colab": {
          "base_uri": "https://localhost:8080/",
          "height": 81,
          "referenced_widgets": [
            "a9232d85a59c47a0942d47d5842287bf",
            "0a22e97c32294ddf9ece58c477498312",
            "d9655100ee8a4a84aebdae993836600d",
            "bc8a6ef87bc6497584283fbe4b108722",
            "a403a22563a74b52bf9e7f946ab6a421",
            "b9c6d82dd981447c8e65474e9f409c45",
            "bd352ab8256041d19283d2ce2773ddff",
            "11bba6050747420696a9576aa4422ca8",
            "38f1a75b72b64729863f9f885718ea8a",
            "267d0dc58f1f4b83bfa59785c48bfb9f"
          ]
        },
        "outputId": "185c2980-628c-404e-d486-c7483901006d"
      },
      "execution_count": 25,
      "outputs": [
        {
          "output_type": "display_data",
          "data": {
            "text/plain": [
              "Button(description='Download All', style=ButtonStyle())"
            ],
            "application/vnd.jupyter.widget-view+json": {
              "version_major": 2,
              "version_minor": 0,
              "model_id": "a9232d85a59c47a0942d47d5842287bf"
            }
          },
          "metadata": {}
        },
        {
          "output_type": "display_data",
          "data": {
            "text/plain": [
              "Output()"
            ],
            "application/vnd.jupyter.widget-view+json": {
              "version_major": 2,
              "version_minor": 0,
              "model_id": "bc8a6ef87bc6497584283fbe4b108722"
            }
          },
          "metadata": {}
        },
        {
          "output_type": "display_data",
          "data": {
            "text/plain": [
              "Button(description='Download Current', style=ButtonStyle())"
            ],
            "application/vnd.jupyter.widget-view+json": {
              "version_major": 2,
              "version_minor": 0,
              "model_id": "b9c6d82dd981447c8e65474e9f409c45"
            }
          },
          "metadata": {}
        },
        {
          "output_type": "display_data",
          "data": {
            "text/plain": [
              "Output()"
            ],
            "application/vnd.jupyter.widget-view+json": {
              "version_major": 2,
              "version_minor": 0,
              "model_id": "38f1a75b72b64729863f9f885718ea8a"
            }
          },
          "metadata": {}
        }
      ]
    }
  ]
}